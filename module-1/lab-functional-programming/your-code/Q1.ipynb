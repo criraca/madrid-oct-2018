{
 "cells": [
  {
   "cell_type": "markdown",
   "metadata": {},
   "source": [
    "In the cell below, create a Python function that wraps your previous solution for the Bag of Words lab.\n",
    "\n",
    "Requirements:\n",
    "\n",
    "1. Your function should accept the following parameters:\n",
    "    * `docs` [REQUIRED] - array of document paths.\n",
    "    * `stop_words` [OPTIONAL] - array of stop words. The default value is an empty array.\n",
    "\n",
    "1. Your function should return a Python object that contains the following:\n",
    "    * `bag_of_words` - array of strings of normalized unique words in the corpus.\n",
    "    * `term_freq` - array of the term-frequency vectors."
   ]
  },
  {
   "cell_type": "code",
   "execution_count": 1,
   "metadata": {},
   "outputs": [
    {
     "ename": "FileNotFoundError",
     "evalue": "[Errno 2] No such file or directory: 'doc1.txt'",
     "output_type": "error",
     "traceback": [
      "\u001b[0;31m---------------------------------------------------------------------------\u001b[0m",
      "\u001b[0;31mFileNotFoundError\u001b[0m                         Traceback (most recent call last)",
      "\u001b[0;32m<ipython-input-1-b9cca9ade0ac>\u001b[0m in \u001b[0;36m<module>\u001b[0;34m\u001b[0m\n\u001b[1;32m     41\u001b[0m \u001b[0;34m\u001b[0m\u001b[0m\n\u001b[1;32m     42\u001b[0m \u001b[0;34m\u001b[0m\u001b[0m\n\u001b[0;32m---> 43\u001b[0;31m \u001b[0mget_bow_from_docs\u001b[0m\u001b[0;34m(\u001b[0m\u001b[0mdocs\u001b[0m\u001b[0;34m)\u001b[0m\u001b[0;34m\u001b[0m\u001b[0m\n\u001b[0m\u001b[1;32m     44\u001b[0m \u001b[0;34m\u001b[0m\u001b[0m\n\u001b[1;32m     45\u001b[0m \u001b[0;34m\u001b[0m\u001b[0m\n",
      "\u001b[0;32m<ipython-input-1-b9cca9ade0ac>\u001b[0m in \u001b[0;36mget_bow_from_docs\u001b[0;34m(docs, stop_words)\u001b[0m\n\u001b[1;32m     12\u001b[0m \u001b[0;32mdef\u001b[0m \u001b[0mget_bow_from_docs\u001b[0m\u001b[0;34m(\u001b[0m\u001b[0mdocs\u001b[0m\u001b[0;34m,\u001b[0m \u001b[0mstop_words\u001b[0m\u001b[0;34m=\u001b[0m\u001b[0;34m[\u001b[0m\u001b[0;34m]\u001b[0m\u001b[0;34m)\u001b[0m\u001b[0;34m:\u001b[0m\u001b[0;34m\u001b[0m\u001b[0m\n\u001b[1;32m     13\u001b[0m \u001b[0;34m\u001b[0m\u001b[0m\n\u001b[0;32m---> 14\u001b[0;31m     \u001b[0mcorpus\u001b[0m \u001b[0;34m=\u001b[0m \u001b[0;34m[\u001b[0m\u001b[0;34m(\u001b[0m\u001b[0mopen\u001b[0m\u001b[0;34m(\u001b[0m\u001b[0mi\u001b[0m\u001b[0;34m,\u001b[0m\u001b[0;34m'r'\u001b[0m\u001b[0;34m)\u001b[0m\u001b[0;34m.\u001b[0m\u001b[0mread\u001b[0m\u001b[0;34m(\u001b[0m\u001b[0;34m)\u001b[0m\u001b[0;34m.\u001b[0m\u001b[0mlower\u001b[0m\u001b[0;34m(\u001b[0m\u001b[0;34m)\u001b[0m\u001b[0;34m.\u001b[0m\u001b[0mreplace\u001b[0m\u001b[0;34m(\u001b[0m\u001b[0;34m'.'\u001b[0m\u001b[0;34m,\u001b[0m \u001b[0;34m\"\"\u001b[0m\u001b[0;34m)\u001b[0m\u001b[0;34m)\u001b[0m \u001b[0;32mfor\u001b[0m \u001b[0mi\u001b[0m \u001b[0;32min\u001b[0m \u001b[0mdocs\u001b[0m\u001b[0;34m]\u001b[0m\u001b[0;34m\u001b[0m\u001b[0m\n\u001b[0m\u001b[1;32m     15\u001b[0m     \u001b[0mbag_of_words\u001b[0m \u001b[0;34m=\u001b[0m \u001b[0;34m[\u001b[0m\u001b[0;34m]\u001b[0m\u001b[0;34m\u001b[0m\u001b[0m\n\u001b[1;32m     16\u001b[0m     \u001b[0mterm_freq\u001b[0m \u001b[0;34m=\u001b[0m \u001b[0;34m[\u001b[0m\u001b[0;34m]\u001b[0m\u001b[0;34m\u001b[0m\u001b[0m\n",
      "\u001b[0;32m<ipython-input-1-b9cca9ade0ac>\u001b[0m in \u001b[0;36m<listcomp>\u001b[0;34m(.0)\u001b[0m\n\u001b[1;32m     12\u001b[0m \u001b[0;32mdef\u001b[0m \u001b[0mget_bow_from_docs\u001b[0m\u001b[0;34m(\u001b[0m\u001b[0mdocs\u001b[0m\u001b[0;34m,\u001b[0m \u001b[0mstop_words\u001b[0m\u001b[0;34m=\u001b[0m\u001b[0;34m[\u001b[0m\u001b[0;34m]\u001b[0m\u001b[0;34m)\u001b[0m\u001b[0;34m:\u001b[0m\u001b[0;34m\u001b[0m\u001b[0m\n\u001b[1;32m     13\u001b[0m \u001b[0;34m\u001b[0m\u001b[0m\n\u001b[0;32m---> 14\u001b[0;31m     \u001b[0mcorpus\u001b[0m \u001b[0;34m=\u001b[0m \u001b[0;34m[\u001b[0m\u001b[0;34m(\u001b[0m\u001b[0mopen\u001b[0m\u001b[0;34m(\u001b[0m\u001b[0mi\u001b[0m\u001b[0;34m,\u001b[0m\u001b[0;34m'r'\u001b[0m\u001b[0;34m)\u001b[0m\u001b[0;34m.\u001b[0m\u001b[0mread\u001b[0m\u001b[0;34m(\u001b[0m\u001b[0;34m)\u001b[0m\u001b[0;34m.\u001b[0m\u001b[0mlower\u001b[0m\u001b[0;34m(\u001b[0m\u001b[0;34m)\u001b[0m\u001b[0;34m.\u001b[0m\u001b[0mreplace\u001b[0m\u001b[0;34m(\u001b[0m\u001b[0;34m'.'\u001b[0m\u001b[0;34m,\u001b[0m \u001b[0;34m\"\"\u001b[0m\u001b[0;34m)\u001b[0m\u001b[0;34m)\u001b[0m \u001b[0;32mfor\u001b[0m \u001b[0mi\u001b[0m \u001b[0;32min\u001b[0m \u001b[0mdocs\u001b[0m\u001b[0;34m]\u001b[0m\u001b[0;34m\u001b[0m\u001b[0m\n\u001b[0m\u001b[1;32m     15\u001b[0m     \u001b[0mbag_of_words\u001b[0m \u001b[0;34m=\u001b[0m \u001b[0;34m[\u001b[0m\u001b[0;34m]\u001b[0m\u001b[0;34m\u001b[0m\u001b[0m\n\u001b[1;32m     16\u001b[0m     \u001b[0mterm_freq\u001b[0m \u001b[0;34m=\u001b[0m \u001b[0;34m[\u001b[0m\u001b[0;34m]\u001b[0m\u001b[0;34m\u001b[0m\u001b[0m\n",
      "\u001b[0;31mFileNotFoundError\u001b[0m: [Errno 2] No such file or directory: 'doc1.txt'"
     ]
    }
   ],
   "source": [
    "# Import required libraries\n",
    "# Define function\n",
    "# In the function, first define the variables you will use such as `corpus`, `bag_of_words`, and `term_freq`.\n",
    "\n",
    "import re\n",
    "import os\n",
    "\n",
    "path = \"/home/cristina/Ironhack/madrid-oct-2018/module-1/lab-bag-of-words/your-code\"\n",
    "docs = [p for p in next(os.walk(path))[2] if p.endswith(\"txt\")]\n",
    "\n",
    "\n",
    "def get_bow_from_docs(docs, stop_words=[]):\n",
    "        \n",
    "    corpus = [(open(i,'r').read().lower().replace('.', \"\")) for i in docs]  \n",
    "    bag_of_words = []\n",
    "    term_freq = []\n",
    " \n",
    "   \n",
    "    [bag_of_words.append(palabras) for textos in corpus for palabras in textos.split() if palabras not in stop_words and palabras not in bag_of_words]\n",
    "\n",
    "        \n",
    "    for texto in corpus:\n",
    "        term_freq_2 = []  \n",
    "        for i in bag_of_words:\n",
    "            \n",
    "            if i == i in texto.split():\n",
    "                term_freq_2.append(1)\n",
    "            \n",
    "            else:\n",
    "                term_freq_2.append(0)\n",
    "        term_freq.append(term_freq_2)\n",
    "    term_freq\n",
    "                   \n",
    "                   \n",
    "    return {\n",
    "        \"bag_of_words\": bag_of_words,\n",
    "        \"term_freq\": term_freq\n",
    "    }\n",
    "    \n",
    "       \n",
    "\n",
    "\n",
    "get_bow_from_docs(docs)\n",
    "      \n",
    "\n",
    "    \n",
    "        \n",
    " #   Loop `docs` and read the content of each doc into a string in `corpus`.\n",
    "  #  Remember to convert the doc content to lowercases and remove punctuation.\n",
    " \n",
    "\n",
    "    \n",
    "    \n",
    "#    Loop `corpus`. Append the terms in each doc into the `bag_of_words` array. The terms in `bag_of_words` \n",
    " #   should be unique which means before adding each term you need to check if it's already added to the array.\n",
    "  #  In addition, check if each term is in the `stop_words` array. Only append the term to `bag_of_words`\n",
    "   # if it is not a stop word.\n",
    "    \n",
    "\n",
    "    \n",
    "    \n",
    "    \n",
    "   #    Loop `corpus` again. For each doc string, count the number of occurrences of each term in `bag_of_words`. \n",
    "    #Create an array for each doc's term frequency and append it to `term_freq`.\n",
    "\n",
    "\n",
    "    \n",
    "    \n",
    "    # Now return your output as an object\n",
    "    \n",
    "    \n",
    "    \n",
    "    \n",
    "    \n",
    "  \n",
    "    "
   ]
  },
  {
   "cell_type": "markdown",
   "metadata": {},
   "source": [
    "Test your function without stop words. You should see the output like below:\n",
    "\n",
    "```{'bag_of_words': ['ironhack', 'is', 'cool', 'i', 'love', 'am', 'a', 'student', 'at'], 'term_freq': [[1, 1, 1, 0, 0, 0, 0, 0, 0], [1, 0, 0, 1, 1, 0, 0, 0, 0], [1, 0, 0, 1, 0, 1, 1, 1, 1]]}```"
   ]
  },
  {
   "cell_type": "code",
   "execution_count": 107,
   "metadata": {},
   "outputs": [
    {
     "name": "stdout",
     "output_type": "stream",
     "text": [
      "['doc1.txt', 'doc2.txt', 'doc3.txt']\n",
      "{'bag_of_words': ['ironhack', 'is', 'cool', 'i', 'love', 'am', 'a', 'student', 'at'], 'term_freq': [[0], [0], [1]]}\n"
     ]
    }
   ],
   "source": [
    "# Define doc paths array\n",
    "docs = ['doc1.txt', 'doc2.txt', 'doc3.txt']\n",
    "\n",
    "print(docs)\n",
    "\n",
    "# Obtain BoW from your function\n",
    "bow = get_bow_from_docs(docs)\n",
    "\n",
    "# Print BoW\n",
    "print(bow)"
   ]
  },
  {
   "cell_type": "markdown",
   "metadata": {},
   "source": [
    "If your attempt above is successful, nice work done!\n",
    "\n",
    "Now test your function again with the stop words. In the previous lab we defined the stop words in a large array. In this lab, we'll import the stop words from Scikit-Learn."
   ]
  },
  {
   "cell_type": "code",
   "execution_count": 110,
   "metadata": {},
   "outputs": [
    {
     "name": "stdout",
     "output_type": "stream",
     "text": [
      "frozenset({'whereupon', 'cannot', 'else', 'whom', 'also', 'someone', 'third', 'from', 'at', 'hundred', 'made', 'nor', 'thin', 'any', 'anyone', 'formerly', 'they', 'eight', 'top', 'whereby', 'nowhere', 'some', 'been', 'since', 'nevertheless', 'somewhere', 'ours', 'back', 'whole', 'amoungst', 'it', 'de', 'our', 'him', 'five', 'ever', 'still', 'toward', 'together', 'this', 'un', 'meanwhile', 'twenty', 'over', 'be', 'hereupon', 'due', 'please', 'rather', 'within', 'same', 'my', 'yours', 'thick', 'and', 'hereafter', 'on', 'find', 'hers', 'their', 'per', 'them', 'all', 'eg', 'throughout', 'we', 'whose', 'none', 'move', 'is', 'bottom', 'neither', 'an', 'off', 'detail', 'co', 'bill', 'anyway', 'has', 'am', 'only', 'until', 'seem', 'perhaps', 'call', 'found', 'nobody', 'or', 'forty', 'must', 'sincere', 'whenever', 'part', 'thereafter', 'enough', 'its', 'cant', 'noone', 'which', 'by', 'ie', 'besides', 'herein', 'thereupon', 'those', 'so', 'herself', 'own', 'serious', 'fire', 'former', 'about', 'myself', 'who', 'whatever', 'along', 'thence', 'several', 'if', 'very', 'are', 'were', 'see', 'sixty', 'well', 'fifteen', 'two', 'without', 'seemed', 'fill', 'latterly', 'seems', 'she', 'thru', 'in', 'after', 'not', 'sometime', 'to', 'whereas', 'would', 'could', 'seeming', 'twelve', 'give', 'couldnt', 'indeed', 'keep', 'of', 'system', 'up', 'done', 'such', 'these', 'ltd', 'wherever', 'thus', 'describe', 'three', 'with', 'should', 'yet', 'each', 'before', 'through', 'full', 'etc', 'me', 'therein', 'somehow', 'side', 'few', 'nothing', 'while', 'against', 'why', 'where', 'between', 'because', 'out', 'here', 'thereby', 'for', 'once', 'upon', 'already', 'beforehand', 'her', 'via', 'either', 'amount', 'as', 'name', 'there', 'many', 'sometimes', 'you', 'he', 'i', 'last', 'onto', 'behind', 'becoming', 'across', 'first', 'elsewhere', 'front', 'other', 'put', 'others', 're', 'that', 'although', 'a', 'below', 'except', 'became', 'into', 'might', 'nine', 'empty', 'mostly', 'mine', 'what', 'alone', 'among', 'everyone', 'yourselves', 'no', 'during', 'however', 'though', 'becomes', 'always', 'latter', 'now', 'the', 'too', 'themselves', 'cry', 'being', 'whither', 'towards', 'otherwise', 'will', 'another', 'hasnt', 'itself', 'therefore', 'us', 'hereby', 'beside', 'hence', 'most', 'then', 'often', 'four', 'less', 'anyhow', 'under', 'whoever', 'namely', 'but', 'everywhere', 'have', 'than', 'how', 'moreover', 'himself', 'whereafter', 'whether', 'his', 'everything', 'even', 'again', 'one', 'when', 'much', 'least', 'something', 'ourselves', 'amongst', 'interest', 'further', 'more', 'whence', 'ten', 'your', 'yourself', 'six', 'afterwards', 'every', 'fifty', 'anything', 'next', 'beyond', 'can', 'become', 'get', 'go', 'take', 'may', 'around', 'was', 'had', 'show', 'do', 'wherein', 'mill', 'never', 'above', 'almost', 'con', 'anywhere', 'inc', 'both', 'eleven', 'down'})\n"
     ]
    }
   ],
   "source": [
    "import sklearn\n",
    "from sklearn.feature_extraction import stop_words\n",
    "print(stop_words.ENGLISH_STOP_WORDS)\n"
   ]
  },
  {
   "cell_type": "markdown",
   "metadata": {},
   "source": [
    "You should have seen a large list of words that looks like:\n",
    "\n",
    "```frozenset({'across', 'mine', 'cannot', ...})```\n",
    "\n",
    "`frozenset` is a type of Python object that is immutable. In this lab you can use it just like an array without conversion."
   ]
  },
  {
   "cell_type": "markdown",
   "metadata": {},
   "source": [
    "Next, test your function with supplying `stop_words.ENGLISH_STOP_WORDS` as the second parameter."
   ]
  },
  {
   "cell_type": "code",
   "execution_count": 124,
   "metadata": {},
   "outputs": [
    {
     "name": "stdout",
     "output_type": "stream",
     "text": [
      "{'bag_of_words': ['ironhack', 'cool', 'love', 'student'], 'term_freq': [[0], [0], [1]]}\n"
     ]
    }
   ],
   "source": [
    "bow = get_bow_from_docs(docs, stop_words.ENGLISH_STOP_WORDS)\n",
    "\n",
    "print(bow)\n",
    "\n",
    "#AQUI ES CAMABIAR BOW POR DOC"
   ]
  },
  {
   "cell_type": "markdown",
   "metadata": {},
   "source": [
    "You should have seen:\n",
    "\n",
    "```{'bag_of_words': ['ironhack', 'cool', 'love', 'student'], 'term_freq': [[1, 1, 0, 0], [1, 0, 1, 0], [1, 0, 0, 1]]}```"
   ]
  },
  {
   "cell_type": "code",
   "execution_count": null,
   "metadata": {},
   "outputs": [],
   "source": []
  }
 ],
 "metadata": {
  "kernelspec": {
   "display_name": "Python 3",
   "language": "python",
   "name": "python3"
  },
  "language_info": {
   "codemirror_mode": {
    "name": "ipython",
    "version": 3
   },
   "file_extension": ".py",
   "mimetype": "text/x-python",
   "name": "python",
   "nbconvert_exporter": "python",
   "pygments_lexer": "ipython3",
   "version": "3.6.6"
  }
 },
 "nbformat": 4,
 "nbformat_minor": 2
}
