{
 "cells": [
  {
   "cell_type": "markdown",
   "metadata": {},
   "source": [
    "**You will find in this notebook some scrapy exercises to practise your scraping skills**.<br>**Remember:**\n",
    "- **To get each request status code to ensure you get the proper response from the web***\n",
    "- **To print the response text in each request to evaluate the what kind of info you are getting and its format.** \n",
    "- **To check for patterns in the response text to extract the data/info requested in each question.**\n",
    "- **To visit each url and take a look on its code through Chrome developer tool.**\n"
   ]
  },
  {
   "cell_type": "markdown",
   "metadata": {},
   "source": [
    "- [Requests library](http://docs.python-requests.org/en/master/#the-user-guide) documentation \n",
    "- [Beautiful Soup Doc](https://www.crummy.com/software/BeautifulSoup/bs4/doc/)\n",
    "- [Urllib](https://docs.python.org/3/library/urllib.html#module-urllib)\n",
    "- [re lib](https://docs.python.org/3/library/re.html)\n",
    "- [lxml lib](https://lxml.de/)\n",
    "- [Scrapy](https://scrapy.org/)\n",
    "- [List of HTTP status codes](https://en.wikipedia.org/wiki/List_of_HTTP_status_codes)\n",
    "- [HTML basics](http://www.simplehtmlguide.com/cheatsheet.php)\n",
    "- [CSS basics](https://www.cssbasics.com/#page_start)"
   ]
  },
  {
   "cell_type": "markdown",
   "metadata": {},
   "source": [
    "**All the libraries and modules you will need are included below. Feel free to explore other libraries i.e. scrapy**"
   ]
  },
  {
   "cell_type": "code",
   "execution_count": 1,
   "metadata": {},
   "outputs": [],
   "source": [
    "import requests\n",
    "from pprint import pprint\n",
    "from bs4 import BeautifulSoup\n",
    "import scrapy\n",
    "from lxml import html\n",
    "from lxml.html import fromstring\n",
    "import urllib.request\n",
    "from urllib.request import urlopen\n",
    "import random\n",
    "import re\n",
    "import pandas as pd"
   ]
  },
  {
   "cell_type": "markdown",
   "metadata": {},
   "source": [
    "### 1.Download and display the content of robot.txt for Wikipedia"
   ]
  },
  {
   "cell_type": "markdown",
   "metadata": {},
   "source": [
    "Check [here](http://www.robotstxt.org/robotstxt.html) to know more about ***robot.txt***"
   ]
  },
  {
   "cell_type": "code",
   "execution_count": 50,
   "metadata": {},
   "outputs": [],
   "source": [
    "# This is the url you will scrape in this exercise\n",
    "url = \"https://en.wikipedia.org/robots.txt\""
   ]
  },
  {
   "cell_type": "code",
   "execution_count": 5,
   "metadata": {},
   "outputs": [
    {
     "data": {
      "text/plain": [
       "b'\\xef\\xbb\\xbf# robots.txt for http://www.wikipedia.org/ and friends\\n#\\n# Please note: There are a lot of pages on this site, and there are\\n# some misbehaved spiders out there that go _way_ too fast. If you\\'re\\n# irresponsible, your access to the site may be blocked.\\n#\\n\\n# Observed spamming large amounts of https://en.wikipedia.org/?curid=NNNNNN\\n# and ignoring 429 ratelimit responses, claims to respect robots:\\n# http://mj12bot.com/\\nUser-agent: MJ12bot\\nDisallow: /\\n\\n# advertising-related bots:\\nUser-agent: Mediapartners-Google*\\nDisallow: /\\n\\n# Wikipedia work bots:\\nUser-agent: IsraBot\\nDisallow:\\n\\nUser-agent: Orthogaffe\\nDisallow:\\n\\n# Crawlers that are kind enough to obey, but which we\\'d rather not have\\n# unless they\\'re feeding search engines.\\nUser-agent: UbiCrawler\\nDisallow: /\\n\\nUser-agent: DOC\\nDisallow: /\\n\\nUser-agent: Zao\\nDisallow: /\\n\\n# Some bots are known to be trouble, particularly those designed to copy\\n# entire sites. Please obey robots.txt.\\nUser-agent: sitecheck.internetseer.com\\nDisallow: /\\n\\nUser-agent: Zealbot\\nDisallow: /\\n\\nUser-agent: MSIECrawler\\nDisallow: /\\n\\nUser-agent: SiteSnagger\\nDisallow: /\\n\\nUser-agent: WebStripper\\nDisallow: /\\n\\nUser-agent: WebCopier\\nDisallow: /\\n\\nUser-agent: Fetch\\nDisallow: /\\n\\nUser-agent: Offline Explorer\\nDisallow: /\\n\\nUser-agent: Teleport\\nDisallow: /\\n\\nUser-agent: TeleportPro\\nDisallow: /\\n\\nUser-agent: WebZIP\\nDisallow: /\\n\\nUser-agent: linko\\nDisallow: /\\n\\nUser-agent: HTTrack\\nDisallow: /\\n\\nUser-agent: Microsoft.URL.Control\\nDisallow: /\\n\\nUser-agent: Xenu\\nDisallow: /\\n\\nUser-agent: larbin\\nDisallow: /\\n\\nUser-agent: libwww\\nDisallow: /\\n\\nUser-agent: ZyBORG\\nDisallow: /\\n\\nUser-agent: Download Ninja\\nDisallow: /\\n\\n# Misbehaving: requests much too fast:\\nUser-agent: fast\\nDisallow: /\\n\\n#\\n# Sorry, wget in its recursive mode is a frequent problem.\\n# Please read the man page and use it properly; there is a\\n# --wait option you can use to set the delay between hits,\\n# for instance.\\n#\\nUser-agent: wget\\nDisallow: /\\n\\n#\\n# The \\'grub\\' distributed client has been *very* poorly behaved.\\n#\\nUser-agent: grub-client\\nDisallow: /\\n\\n#\\n# Doesn\\'t follow robots.txt anyway, but...\\n#\\nUser-agent: k2spider\\nDisallow: /\\n\\n#\\n# Hits many times per second, not acceptable\\n# http://www.nameprotect.com/botinfo.html\\nUser-agent: NPBot\\nDisallow: /\\n\\n# A capture bot, downloads gazillions of pages with no public benefit\\n# http://www.webreaper.net/\\nUser-agent: WebReaper\\nDisallow: /\\n\\n# Wayback Machine: defaults and whether to index user-pages\\n# FIXME: Complete the removal of this block, per T7582.\\n# User-agent: archive.org_bot\\n# Allow: /\\n\\n\\n#\\n# Friendly, low-speed bots are welcome viewing article pages, but not\\n# dynamically-generated pages please.\\n#\\n# Inktomi\\'s \"Slurp\" can read a minimum delay between hits; if your\\n# bot supports such a thing using the \\'Crawl-delay\\' or another\\n# instruction, please let us know.\\n#\\n# There is a special exception for API mobileview to allow dynamic\\n# mobile web & app views to load section content.\\n# These views aren\\'t HTTP-cached but use parser cache aggressively\\n# and don\\'t expose special: pages etc.\\n#\\n# Another exception is for REST API documentation, located at\\n# /api/rest_v1/?doc.\\n#\\nUser-agent: *\\nAllow: /w/api.php?action=mobileview&\\nAllow: /w/load.php?\\nAllow: /api/rest_v1/?doc\\nDisallow: /w/\\nDisallow: /api/\\nDisallow: /trap/\\nDisallow: /wiki/Special:\\nDisallow: /wiki/Spezial:\\nDisallow: /wiki/Spesial:\\nDisallow: /wiki/Special%3A\\nDisallow: /wiki/Spezial%3A\\nDisallow: /wiki/Spesial%3A\\n\\n#\\n# ar:\\nDisallow: /wiki/%D8%AE%D8%A7%D8%B5:Search\\nDisallow: /wiki/%D8%AE%D8%A7%D8%B5%3ASearch\\n#\\n# dewiki:\\n# T6937\\n# sensible deletion and meta user discussion pages:\\nDisallow: /wiki/Wikipedia:L%C3%B6schkandidaten/\\nDisallow: /wiki/Wikipedia:L\\xc3\\xb6schkandidaten/\\nDisallow: /wiki/Wikipedia:Vandalensperrung/\\nDisallow: /wiki/Wikipedia:Benutzersperrung/\\nDisallow: /wiki/Wikipedia:Vermittlungsausschuss/\\nDisallow: /wiki/Wikipedia:Administratoren/Probleme/\\nDisallow: /wiki/Wikipedia:Adminkandidaturen/\\nDisallow: /wiki/Wikipedia:Qualit\\xc3\\xa4tssicherung/\\nDisallow: /wiki/Wikipedia:Qualit%C3%A4tssicherung/\\n# 4937#5\\nDisallow: /wiki/Wikipedia:Vandalismusmeldung/\\nDisallow: /wiki/Wikipedia:Gesperrte_Lemmata/\\nDisallow: /wiki/Wikipedia:L\\xc3\\xb6schpr\\xc3\\xbcfung/\\nDisallow: /wiki/Wikipedia:L%C3%B6schpr\\xc3\\xbcfung/\\nDisallow: /wiki/Wikipedia:Administratoren/Notizen/\\nDisallow: /wiki/Wikipedia:Schiedsgericht/Anfragen/\\nDisallow: /wiki/Wikipedia:L%C3%B6schpr%C3%BCfung/\\n# T14111\\nDisallow: /wiki/Wikipedia:Checkuser/\\nDisallow: /wiki/Wikipedia_Diskussion:Checkuser/\\nDisallow: /wiki/Wikipedia_Diskussion:Adminkandidaturen/\\n# T15961\\nDisallow: /wiki/Wikipedia:Spam-Blacklist-Log\\nDisallow: /wiki/Wikipedia%3ASpam-Blacklist-Log\\nDisallow: /wiki/Wikipedia_Diskussion:Spam-Blacklist-Log\\nDisallow: /wiki/Wikipedia_Diskussion%3ASpam-Blacklist-Log\\n#\\n# enwiki:\\n# Folks get annoyed when VfD discussions end up the number 1 google hit for\\n# their name. See T6776\\nDisallow: /wiki/Wikipedia:Articles_for_deletion/\\nDisallow: /wiki/Wikipedia%3AArticles_for_deletion/\\nDisallow: /wiki/Wikipedia:Votes_for_deletion/\\nDisallow: /wiki/Wikipedia%3AVotes_for_deletion/\\nDisallow: /wiki/Wikipedia:Pages_for_deletion/\\nDisallow: /wiki/Wikipedia%3APages_for_deletion/\\nDisallow: /wiki/Wikipedia:Miscellany_for_deletion/\\nDisallow: /wiki/Wikipedia%3AMiscellany_for_deletion/\\nDisallow: /wiki/Wikipedia:Miscellaneous_deletion/\\nDisallow: /wiki/Wikipedia%3AMiscellaneous_deletion/\\nDisallow: /wiki/Wikipedia:Copyright_problems\\nDisallow: /wiki/Wikipedia%3ACopyright_problems\\nDisallow: /wiki/Wikipedia:Protected_titles/\\nDisallow: /wiki/Wikipedia%3AProtected_titles/\\n# T15398\\nDisallow: /wiki/Wikipedia:WikiProject_Spam/\\nDisallow: /wiki/Wikipedia%3AWikiProject_Spam/\\n# T16075\\nDisallow: /wiki/MediaWiki:Spam-blacklist\\nDisallow: /wiki/MediaWiki%3ASpam-blacklist\\nDisallow: /wiki/MediaWiki_talk:Spam-blacklist\\nDisallow: /wiki/MediaWiki_talk%3ASpam-blacklist\\n# T13261\\nDisallow: /wiki/Wikipedia:Requests_for_arbitration/\\nDisallow: /wiki/Wikipedia%3ARequests_for_arbitration/\\nDisallow: /wiki/Wikipedia:Requests_for_comment/\\nDisallow: /wiki/Wikipedia%3ARequests_for_comment/\\nDisallow: /wiki/Wikipedia:Requests_for_adminship/\\nDisallow: /wiki/Wikipedia%3ARequests_for_adminship/\\n# T12288\\nDisallow: /wiki/Wikipedia_talk:Articles_for_deletion/\\nDisallow: /wiki/Wikipedia_talk%3AArticles_for_deletion/\\nDisallow: /wiki/Wikipedia_talk:Votes_for_deletion/\\nDisallow: /wiki/Wikipedia_talk%3AVotes_for_deletion/\\nDisallow: /wiki/Wikipedia_talk:Pages_for_deletion/\\nDisallow: /wiki/Wikipedia_talk%3APages_for_deletion/\\nDisallow: /wiki/Wikipedia_talk:Miscellany_for_deletion/\\nDisallow: /wiki/Wikipedia_talk%3AMiscellany_for_deletion/\\nDisallow: /wiki/Wikipedia_talk:Miscellaneous_deletion/\\nDisallow: /wiki/Wikipedia_talk%3AMiscellaneous_deletion/\\n# T16793\\nDisallow: /wiki/Wikipedia:Changing_username\\nDisallow: /wiki/Wikipedia%3AChanging_username\\nDisallow: /wiki/Wikipedia:Changing_username/\\nDisallow: /wiki/Wikipedia%3AChanging_username/\\nDisallow: /wiki/Wikipedia_talk:Changing_username\\nDisallow: /wiki/Wikipedia_talk%3AChanging_username\\nDisallow: /wiki/Wikipedia_talk:Changing_username/\\nDisallow: /wiki/Wikipedia_talk%3AChanging_username/\\n#\\n# eswiki:\\n# T8746\\nDisallow: /wiki/Wikipedia:Consultas_de_borrado/\\nDisallow: /wiki/Wikipedia%3AConsultas_de_borrado/\\n#\\n# fiwiki:\\n# T10695\\nDisallow: /wiki/Wikipedia:Poistettavat_sivut\\nDisallow: /wiki/K%C3%A4ytt%C3%A4j%C3%A4:\\nDisallow: /wiki/K\\xc3\\xa4ytt\\xc3\\xa4j\\xc3\\xa4:\\nDisallow: /wiki/Keskustelu_k%C3%A4ytt%C3%A4j%C3%A4st%C3%A4:\\nDisallow: /wiki/Keskustelu_k\\xc3\\xa4ytt\\xc3\\xa4j\\xc3\\xa4st\\xc3\\xa4:\\nDisallow: /wiki/Wikipedia:Yll%C3%A4pit%C3%A4j%C3%A4t/\\nDisallow: /wiki/Wikipedia:Yll\\xc3\\xa4pit\\xc3\\xa4j\\xc3\\xa4t/\\n#\\n# hewiki:\\nDisallow: /wiki/%D7%9E%D7%99%D7%95%D7%97%D7%93:Search\\nDisallow: /wiki/%D7%9E%D7%99%D7%95%D7%97%D7%93%3ASearch\\n#T11517\\nDisallow: /wiki/\\xd7\\x95\\xd7\\x99\\xd7\\xa7\\xd7\\x99\\xd7\\xa4\\xd7\\x93\\xd7\\x99\\xd7\\x94:\\xd7\\xa8\\xd7\\xa9\\xd7\\x99\\xd7\\x9e\\xd7\\xaa_\\xd7\\x9e\\xd7\\x95\\xd7\\xa2\\xd7\\x9e\\xd7\\x93\\xd7\\x99\\xd7\\x9d_\\xd7\\x9c\\xd7\\x9e\\xd7\\x97\\xd7\\x99\\xd7\\xa7\\xd7\\x94/\\nDisallow: /wiki/\\xd7\\x95\\xd7\\x99\\xd7\\xa7\\xd7\\x99\\xd7\\xa4\\xd7\\x93\\xd7\\x99\\xd7\\x94%3A\\xd7\\xa8\\xd7\\xa9\\xd7\\x99\\xd7\\x9e\\xd7\\xaa_\\xd7\\x9e\\xd7\\x95\\xd7\\xa2\\xd7\\x9e\\xd7\\x93\\xd7\\x99\\xd7\\x9d_\\xd7\\x9c\\xd7\\x9e\\xd7\\x97\\xd7\\x99\\xd7\\xa7\\xd7\\x94/\\nDisallow: /wiki/%D7%95%D7%99%D7%A7%D7%99%D7%A4%D7%93%D7%99%D7%94:%D7%A8%D7%A9%D7%99%D7%9E%D7%AA_%D7%9E%D7%95%D7%A2%D7%9E%D7%93%D7%99%D7%9D_%D7%9C%D7%9E%D7%97%D7%99%D7%A7%D7%94/\\nDisallow: /wiki/%D7%95%D7%99%D7%A7%D7%99%D7%A4%D7%93%D7%99%D7%94%3A%D7%A8%D7%A9%D7%99%D7%9E%D7%AA_%D7%9E%D7%95%D7%A2%D7%9E%D7%93%D7%99%D7%9D_%D7%9C%D7%9E%D7%97%D7%99%D7%A7%D7%94/\\nDisallow: /wiki/\\xd7\\x95\\xd7\\x99\\xd7\\xa7\\xd7\\x99\\xd7\\xa4\\xd7\\x93\\xd7\\x99\\xd7\\x94:\\xd7\\xa2\\xd7\\xa8\\xd7\\x9b\\xd7\\x99\\xd7\\x9d_\\xd7\\x9c\\xd7\\x90_\\xd7\\xa7\\xd7\\x99\\xd7\\x99\\xd7\\x9e\\xd7\\x99\\xd7\\x9d_\\xd7\\x95\\xd7\\x9e\\xd7\\x95\\xd7\\x92\\xd7\\xa0\\xd7\\x99\\xd7\\x9d\\nDisallow: /wiki/\\xd7\\x95\\xd7\\x99\\xd7\\xa7\\xd7\\x99\\xd7\\xa4\\xd7\\x93\\xd7\\x99\\xd7\\x94%3A\\xd7\\xa2\\xd7\\xa8\\xd7\\x9b\\xd7\\x99\\xd7\\x9d_\\xd7\\x9c\\xd7\\x90_\\xd7\\xa7\\xd7\\x99\\xd7\\x99\\xd7\\x9e\\xd7\\x99\\xd7\\x9d_\\xd7\\x95\\xd7\\x9e\\xd7\\x95\\xd7\\x92\\xd7\\xa0\\xd7\\x99\\xd7\\x9d\\nDisallow: /wiki/%D7%95%D7%99%D7%A7%D7%99%D7%A4%D7%93%D7%99%D7%94:%D7%A2%D7%A8%D7%9B%D7%99%D7%9D_%D7%9C%D7%90_%D7%A7%D7%99%D7%99%D7%9E%D7%99%D7%9D_%D7%95%D7%9E%D7%95%D7%92%D7%A0%D7%99%D7%9D\\nDisallow: /wiki/%D7%95%D7%99%D7%A7%D7%99%D7%A4%D7%93%D7%99%D7%94%3A%D7%A2%D7%A8%D7%9B%D7%99%D7%9D_%D7%9C%D7%90_%D7%A7%D7%99%D7%99%D7%9E%D7%99%D7%9D_%D7%95%D7%9E%D7%95%D7%92%D7%A0%D7%99%D7%9D\\nDisallow: /wiki/\\xd7\\x95\\xd7\\x99\\xd7\\xa7\\xd7\\x99\\xd7\\xa4\\xd7\\x93\\xd7\\x99\\xd7\\x94:\\xd7\\x93\\xd7\\xa4\\xd7\\x99\\xd7\\x9d_\\xd7\\x9c\\xd7\\x90_\\xd7\\xa7\\xd7\\x99\\xd7\\x99\\xd7\\x9e\\xd7\\x99\\xd7\\x9d_\\xd7\\x95\\xd7\\x9e\\xd7\\x95\\xd7\\x92\\xd7\\xa0\\xd7\\x99\\xd7\\x9d\\nDisallow: /wiki/\\xd7\\x95\\xd7\\x99\\xd7\\xa7\\xd7\\x99\\xd7\\xa4\\xd7\\x93\\xd7\\x99\\xd7\\x94%3A\\xd7\\x93\\xd7\\xa4\\xd7\\x99\\xd7\\x9d_\\xd7\\x9c\\xd7\\x90_\\xd7\\xa7\\xd7\\x99\\xd7\\x99\\xd7\\x9e\\xd7\\x99\\xd7\\x9d_\\xd7\\x95\\xd7\\x9e\\xd7\\x95\\xd7\\x92\\xd7\\xa0\\xd7\\x99\\xd7\\x9d\\nDisallow: /wiki/%D7%95%D7%99%D7%A7%D7%99%D7%A4%D7%93%D7%99%D7%94:%D7%93%D7%A4%D7%99%D7%9D_%D7%9C%D7%90_%D7%A7%D7%99%D7%99%D7%9E%D7%99%D7%9D_%D7%95%D7%9E%D7%95%D7%92%D7%A0%D7%99%D7%9D\\nDisallow: /wiki/%D7%95%D7%99%D7%A7%D7%99%D7%A4%D7%93%D7%99%D7%94%3A%D7%93%D7%A4%D7%99%D7%9D_%D7%9C%D7%90_%D7%A7%D7%99%D7%99%D7%9E%D7%99%D7%9D_%D7%95%D7%9E%D7%95%D7%92%D7%A0%D7%99%D7%9D\\n#\\n# huwiki:\\nDisallow: /wiki/Speci%C3%A1lis:Search\\nDisallow: /wiki/Speci%C3%A1lis%3ASearch\\n#\\n# itwiki:\\n# T7545\\nDisallow: /wiki/Wikipedia:Pagine_da_cancellare\\nDisallow: /wiki/Wikipedia%3APagine_da_cancellare\\nDisallow: /wiki/Wikipedia:Utenti_problematici\\nDisallow: /wiki/Wikipedia%3AUtenti_problematici\\nDisallow: /wiki/Wikipedia:Vandalismi_in_corso\\nDisallow: /wiki/Wikipedia%3AVandalismi_in_corso\\nDisallow: /wiki/Wikipedia:Amministratori\\nDisallow: /wiki/Wikipedia%3AAmministratori\\nDisallow: /wiki/Wikipedia:Proposte_di_cancellazione_semplificata\\nDisallow: /wiki/Wikipedia%3AProposte_di_cancellazione_semplificata\\nDisallow: /wiki/Categoria:Da_cancellare_subito\\nDisallow: /wiki/Categoria%3ADa_cancellare_subito\\nDisallow: /wiki/Wikipedia:Sospette_violazioni_di_copyright\\nDisallow: /wiki/Wikipedia%3ASospette_violazioni_di_copyright\\nDisallow: /wiki/Categoria:Da_controllare_per_copyright\\nDisallow: /wiki/Categoria%3ADa_controllare_per_copyright\\nDisallow: /wiki/Progetto:Rimozione_contributi_sospetti\\nDisallow: /wiki/Progetto%3ARimozione_contributi_sospetti\\nDisallow: /wiki/Categoria:Da_cancellare_subito_per_violazione_integrale_copyright\\nDisallow: /wiki/Categoria%3ADa_cancellare_subito_per_violazione_integrale_copyright\\nDisallow: /wiki/Progetto:Cococo\\nDisallow: /wiki/Progetto%3ACococo\\nDisallow: /wiki/Discussioni_progetto:Cococo\\nDisallow: /wiki/Discussioni_progetto%3ACococo\\n#\\n# jawiki\\nDisallow: /wiki/%E7%89%B9%E5%88%A5:Search\\nDisallow: /wiki/%E7%89%B9%E5%88%A5%3ASearch\\n# T7239\\nDisallow: /wiki/Wikipedia:%E5%89%8A%E9%99%A4%E4%BE%9D%E9%A0%BC/\\nDisallow: /wiki/Wikipedia%3A%E5%89%8A%E9%99%A4%E4%BE%9D%E9%A0%BC/\\nDisallow: /wiki/Wikipedia:%E5%88%A9%E7%94%A8%E8%80%85%E3%83%9A%E3%83%BC%E3%82%B8%E3%81%AE%E5%89%8A%E9%99%A4%E4%BE%9D%E9%A0%BC\\nDisallow: /wiki/Wikipedia%3A%E5%88%A9%E7%94%A8%E8%80%85%E3%83%9A%E3%83%BC%E3%82%B8%E3%81%AE%E5%89%8A%E9%99%A4%E4%BE%9D%E9%A0%BC\\n# nowiki\\n# T13432\\nDisallow: /wiki/Bruker:\\nDisallow: /wiki/Bruker%3A\\nDisallow: /wiki/Brukerdiskusjon\\nDisallow: /wiki/Wikipedia:Administratorer\\nDisallow: /wiki/Wikipedia%3AAdministratorer\\nDisallow: /wiki/Wikipedia-diskusjon:Administratorer\\nDisallow: /wiki/Wikipedia-diskusjon%3AAdministratorer\\nDisallow: /wiki/Wikipedia:Sletting\\nDisallow: /wiki/Wikipedia%3ASletting\\nDisallow: /wiki/Wikipedia-diskusjon:Sletting\\nDisallow: /wiki/Wikipedia-diskusjon%3ASletting\\n#\\n# plwiki\\n# T10067\\nDisallow: /wiki/Wikipedia:Strony_do_usuni%C4%99cia\\nDisallow: /wiki/Wikipedia%3AStrony_do_usuni%C4%99cia\\nDisallow: /wiki/Wikipedia:Do_usuni%C4%99cia\\nDisallow: /wiki/Wikipedia%3ADo_usuni%C4%99cia\\nDisallow: /wiki/Wikipedia:SDU/\\nDisallow: /wiki/Wikipedia%3ASDU/\\nDisallow: /wiki/Wikipedia:Strony_podejrzane_o_naruszenie_praw_autorskich\\nDisallow: /wiki/Wikipedia%3AStrony_podejrzane_o_naruszenie_praw_autorskich\\n#\\n# ptwiki:\\n# T7394\\nDisallow: /wiki/Wikipedia:P\\xc3\\xa1ginas_para_eliminar/\\nDisallow: /wiki/Wikipedia:P%C3%A1ginas_para_eliminar/\\nDisallow: /wiki/Wikipedia%3AP%C3%A1ginas_para_eliminar/\\nDisallow: /wiki/Wikipedia_Discuss\\xc3\\xa3o:P\\xc3\\xa1ginas_para_eliminar/\\nDisallow: /wiki/Wikipedia_Discuss%C3%A3o:P%C3%A1ginas_para_eliminar/\\nDisallow: /wiki/Wikipedia_Discuss%C3%A3o%3AP%C3%A1ginas_para_eliminar/\\n#\\n# rowiki:\\n# T14546\\nDisallow: /wiki/Wikipedia:Pagini_de_%C5%9Fters\\nDisallow: /wiki/Wikipedia%3APagini_de_%C5%9Fters\\nDisallow: /wiki/Discu%C5%A3ie_Wikipedia:Pagini_de_%C5%9Fters\\nDisallow: /wiki/Discu%C5%A3ie_Wikipedia%3APagini_de_%C5%9Fters\\n#\\n# ruwiki:\\nDisallow: /wiki/%D0%A1%D0%BF%D0%B5%D1%86%D0%B8%D0%B0%D0%BB%D1%8C%D0%BD%D1%8B%D0%B5:Search\\nDisallow: /wiki/%D0%A1%D0%BF%D0%B5%D1%86%D0%B8%D0%B0%D0%BB%D1%8C%D0%BD%D1%8B%D0%B5%3ASearch\\n#\\n# svwiki:\\n# T12229\\nDisallow: /wiki/Wikipedia%3ASidor_f%C3%B6reslagna_f%C3%B6r_radering\\nDisallow: /wiki/Wikipedia:Sidor_f%C3%B6reslagna_f%C3%B6r_radering\\nDisallow: /wiki/Wikipedia:Sidor_f\\xc3\\xb6reslagna_f\\xc3\\xb6r_radering\\nDisallow: /wiki/Anv\\xc3\\xa4ndare\\nDisallow: /wiki/Anv%C3%A4ndare\\nDisallow: /wiki/Anv\\xc3\\xa4ndardiskussion\\nDisallow: /wiki/Anv%C3%A4ndardiskussion\\nDisallow: /wiki/Wikipedia:Skyddade_sidnamn\\nDisallow: /wiki/Wikipedia%3ASkyddade_sidnamn\\n# T13291\\nDisallow: /wiki/Wikipedia:Sidor_som_b\\xc3\\xb6r_raderas\\nDisallow: /wiki/Wikipedia:Sidor_som_b%C3%B6r_raderas\\nDisallow: /wiki/Wikipedia%3ASidor_som_b%C3%B6r_raderas\\n#\\n# zhwiki:\\n# T7104\\nDisallow: /wiki/Wikipedia:\\xe5\\x88\\xa0\\xe9\\x99\\xa4\\xe6\\x8a\\x95\\xe7\\xa5\\xa8/\\xe4\\xbe\\xb5\\xe6\\x9d\\x83\\nDisallow: /wiki/Wikipedia:%E5%88%A0%E9%99%A4%E6%8A%95%E7%A5%A8/%E4%BE%B5%E6%9D%83\\nDisallow: /wiki/Wikipedia:\\xe5\\x88\\xa0\\xe9\\x99\\xa4\\xe6\\x8a\\x95\\xe7\\xa5\\xa8\\xe5\\x92\\x8c\\xe8\\xaf\\xb7\\xe6\\xb1\\x82\\nDisallow: /wiki/Wikipedia:%E5%88%A0%E9%99%A4%E6%8A%95%E7%A5%A8%E5%92%8C%E8%AF%B7%E6%B1%82\\nDisallow: /wiki/Category:\\xe5\\xbf\\xab\\xe9\\x80\\x9f\\xe5\\x88\\xa0\\xe9\\x99\\xa4\\xe5\\x80\\x99\\xe9\\x80\\x89\\nDisallow: /wiki/Category:%E5%BF%AB%E9%80%9F%E5%88%A0%E9%99%A4%E5%80%99%E9%80%89\\nDisallow: /wiki/Category:\\xe7\\xbb\\xb4\\xe5\\x9f\\xba\\xe7\\x99\\xbe\\xe7\\xa7\\x91\\xe9\\x9c\\x80\\xe8\\xa6\\x81\\xe7\\xbf\\xbb\\xe8\\xaf\\x91\\xe7\\x9a\\x84\\xe6\\x96\\x87\\xe7\\xab\\xa0\\nDisallow: /wiki/Category:%E7%BB%B4%E5%9F%BA%E7%99%BE%E7%A7%91%E9%9C%80%E8%A6%81%E7%BF%BB%E8%AF%91%E7%9A%84%E6%96%87%E7%AB%A0\\n#\\n# sister projects\\n#\\n# enwikinews:\\n# T7340\\nDisallow: /wiki/Portal:Prepared_stories/\\nDisallow: /wiki/Portal%3APrepared_stories/\\n#\\n# itwikinews\\n# T11138\\nDisallow: /wiki/Wikinotizie:Richieste_di_cancellazione\\nDisallow: /wiki/Wikinotizie:Sospette_violazioni_di_copyright\\nDisallow: /wiki/Categoria:Da_cancellare_subito\\nDisallow: /wiki/Categoria:Da_cancellare_subito_per_violazione_integrale_copyright\\nDisallow: /wiki/Wikinotizie:Storie_in_preparazione\\n#\\n# enwikiquote:\\n# T17095\\nDisallow: /wiki/Wikiquote:Votes_for_deletion/\\nDisallow: /wiki/Wikiquote%3AVotes_for_deletion/\\nDisallow: /wiki/Wikiquote_talk:Votes_for_deletion/\\nDisallow: /wiki/Wikiquote_talk%3AVotes_for_deletion/\\nDisallow: /wiki/Wikiquote:Votes_for_deletion_archive/\\nDisallow: /wiki/Wikiquote%3AVotes_for_deletion_archive/\\nDisallow: /wiki/Wikiquote_talk:Votes_for_deletion_archive/\\nDisallow: /wiki/Wikiquote_talk%3AVotes_for_deletion_archive/\\n#\\n# enwikibooks\\nDisallow: /wiki/Wikibooks:Votes_for_deletion\\n#\\n# working...\\nDisallow: /wiki/Fundraising_2007/comments\\n#\\n#\\n#\\n#----------------------------------------------------------#\\n#\\n#\\n#\\n # <!-- Please do not remove the space at the start of this line, it breaks the rendering.  http://www.robotstxt.org/orig.html says spaces before comments are OK. --><pre>\\n#\\n# Localisable part of robots.txt for en.wikipedia.org\\n#\\n# Edit at https://en.wikipedia.org/w/index.php?title=MediaWiki:Robots.txt&action=edit\\n# Don\\'t add newlines here. All rules set here are active for every user-agent.\\n#\\n# Please check any changes using a syntax validator such as http://tool.motoricerca.info/robots-checker.phtml\\n# Enter https://en.wikipedia.org/robots.txt as the URL to check.\\n#\\n# https://bugzilla.wikimedia.org/show_bug.cgi?id=14075\\nDisallow: /wiki/MediaWiki:Spam-blacklist\\nDisallow: /wiki/MediaWiki%3ASpam-blacklist\\nDisallow: /wiki/MediaWiki_talk:Spam-blacklist\\nDisallow: /wiki/MediaWiki_talk%3ASpam-blacklist\\nDisallow: /wiki/Wikipedia:WikiProject_Spam\\nDisallow: /wiki/Wikipedia_talk:WikiProject_Spam\\n#\\n# Folks get annoyed when XfD discussions end up the number 1 google hit for\\n# their name. \\n# https://phabricator.wikimedia.org/T16075\\nDisallow: /wiki/Wikipedia:Articles_for_deletion\\nDisallow: /wiki/Wikipedia%3AArticles_for_deletion\\nDisallow: /wiki/Wikipedia:Votes_for_deletion\\nDisallow: /wiki/Wikipedia%3AVotes_for_deletion\\nDisallow: /wiki/Wikipedia:Pages_for_deletion\\nDisallow: /wiki/Wikipedia%3APages_for_deletion\\nDisallow: /wiki/Wikipedia:Miscellany_for_deletion\\nDisallow: /wiki/Wikipedia%3AMiscellany_for_deletion\\nDisallow: /wiki/Wikipedia:Miscellaneous_deletion\\nDisallow: /wiki/Wikipedia%3AMiscellaneous_deletion\\nDisallow: /wiki/Wikipedia:Categories_for_discussion\\nDisallow: /wiki/Wikipedia%3ACategories_for_discussion\\nDisallow: /wiki/Wikipedia:Templates_for_deletion\\nDisallow: /wiki/Wikipedia%3ATemplates_for_deletion\\nDisallow: /wiki/Wikipedia:Redirects_for_discussion\\nDisallow: /wiki/Wikipedia%3ARedirects_for_discussion\\nDisallow: /wiki/Wikipedia:Deletion_review\\nDisallow: /wiki/Wikipedia%3ADeletion_review\\nDisallow: /wiki/Wikipedia:WikiProject_Deletion_sorting\\nDisallow: /wiki/Wikipedia%3AWikiProject_Deletion_sorting\\nDisallow: /wiki/Wikipedia:Files_for_deletion\\nDisallow: /wiki/Wikipedia%3AFiles_for_deletion\\nDisallow: /wiki/Wikipedia:Files_for_discussion\\nDisallow: /wiki/Wikipedia%3AFiles_for_discussion\\nDisallow: /wiki/Wikipedia:Possibly_unfree_files\\nDisallow: /wiki/Wikipedia%3APossibly_unfree_files\\n#\\n# https://phabricator.wikimedia.org/T12288\\nDisallow: /wiki/Wikipedia_talk:Articles_for_deletion\\nDisallow: /wiki/Wikipedia_talk%3AArticles_for_deletion\\nDisallow: /wiki/Wikipedia_talk:Votes_for_deletion\\nDisallow: /wiki/Wikipedia_talk%3AVotes_for_deletion\\nDisallow: /wiki/Wikipedia_talk:Pages_for_deletion\\nDisallow: /wiki/Wikipedia_talk%3APages_for_deletion\\nDisallow: /wiki/Wikipedia_talk:Miscellany_for_deletion\\nDisallow: /wiki/Wikipedia_talk%3AMiscellany_for_deletion\\nDisallow: /wiki/Wikipedia_talk:Miscellaneous_deletion\\nDisallow: /wiki/Wikipedia_talk%3AMiscellaneous_deletion\\nDisallow: /wiki/Wikipedia_talk:Templates_for_deletion\\nDisallow: /wiki/Wikipedia_talk%3ATemplates_for_deletion\\nDisallow: /wiki/Wikipedia_talk:Categories_for_discussion\\nDisallow: /wiki/Wikipedia_talk%3ACategories_for_discussion\\nDisallow: /wiki/Wikipedia_talk:Deletion_review\\nDisallow: /wiki/Wikipedia_talk%3ADeletion_review\\nDisallow: /wiki/Wikipedia_talk:WikiProject_Deletion_sorting\\nDisallow: /wiki/Wikipedia_talk%3AWikiProject_Deletion_sorting\\nDisallow: /wiki/Wikipedia_talk:Files_for_deletion\\nDisallow: /wiki/Wikipedia_talk%3AFiles_for_deletion\\nDisallow: /wiki/Wikipedia_talk:Files_for_discussion\\nDisallow: /wiki/Wikipedia_talk%3AFiles_for_discussion\\nDisallow: /wiki/Wikipedia_talk:Possibly_unfree_files\\nDisallow: /wiki/Wikipedia_talk%3APossibly_unfree_files\\n#\\nDisallow: /wiki/Wikipedia:Copyright_problems\\nDisallow: /wiki/Wikipedia%3ACopyright_problems\\nDisallow: /wiki/Wikipedia_talk:Copyright_problems\\nDisallow: /wiki/Wikipedia_talk%3ACopyright_problems\\nDisallow: /wiki/Wikipedia:Suspected_copyright_violations\\nDisallow: /wiki/Wikipedia%3ASuspected_copyright_violations\\nDisallow: /wiki/Wikipedia_talk:Suspected_copyright_violations\\nDisallow: /wiki/Wikipedia_talk%3ASuspected_copyright_violations\\nDisallow: /wiki/Wikipedia:Contributor_copyright_investigations\\nDisallow: /wiki/Wikipedia%3AContributor_copyright_investigations\\nDisallow: /wiki/Wikipedia:Contributor_copyright_investigations\\nDisallow: /wiki/Wikipedia%3AContributor_copyright_investigations\\nDisallow: /wiki/Wikipedia_talk:Contributor_copyright_investigations\\nDisallow: /wiki/Wikipedia_talk%3AContributor_copyright_investigations\\nDisallow: /wiki/Wikipedia_talk:Contributor_copyright_investigations\\nDisallow: /wiki/Wikipedia_talk%3AContributor_copyright_investigations\\nDisallow: /wiki/Wikipedia:Protected_titles\\nDisallow: /wiki/Wikipedia%3AProtected_titles\\nDisallow: /wiki/Wikipedia_talk:Protected_titles\\nDisallow: /wiki/Wikipedia_talk%3AProtected_titles\\nDisallow: /wiki/Wikipedia:Articles_for_creation\\nDisallow: /wiki/Wikipedia%3AArticles_for_creation\\nDisallow: /wiki/Wikipedia_talk:Articles_for_creation\\nDisallow: /wiki/Wikipedia_talk%3AArticles_for_creation\\nDisallow: /wiki/Wikipedia_talk:Article_wizard\\nDisallow: /wiki/Wikipedia_talk%3AArticle_wizard\\n#\\n# https://phabricator.wikimedia.org/T13261\\nDisallow: /wiki/Wikipedia:Requests_for_arbitration\\nDisallow: /wiki/Wikipedia%3ARequests_for_arbitration\\nDisallow: /wiki/Wikipedia_talk:Requests_for_arbitration\\nDisallow: /wiki/Wikipedia_talk%3ARequests_for_arbitration\\nDisallow: /wiki/Wikipedia:Requests_for_comment\\nDisallow: /wiki/Wikipedia%3ARequests_for_comment\\nDisallow: /wiki/Wikipedia_talk:Requests_for_comment\\nDisallow: /wiki/Wikipedia_talk%3ARequests_for_comment\\nDisallow: /wiki/Wikipedia:Requests_for_adminship\\nDisallow: /wiki/Wikipedia%3ARequests_for_adminship\\nDisallow: /wiki/Wikipedia_talk:Requests_for_adminship\\nDisallow: /wiki/Wikipedia_talk%3ARequests_for_adminship\\n#\\n# https://phabricator.wikimedia.org/T14111\\nDisallow: /wiki/Wikipedia:Requests_for_checkuser\\nDisallow: /wiki/Wikipedia%3ARequests_for_checkuser\\nDisallow: /wiki/Wikipedia_talk:Requests_for_checkuser\\nDisallow: /wiki/Wikipedia_talk%3ARequests_for_checkuser\\n#\\n# https://phabricator.wikimedia.org/T15398\\nDisallow: /wiki/Wikipedia:WikiProject_Spam\\nDisallow: /wiki/Wikipedia%3AWikiProject_Spam\\n#\\n# https://phabricator.wikimedia.org/T16793\\nDisallow: /wiki/Wikipedia:Changing_username\\nDisallow: /wiki/Wikipedia%3AChanging_username\\nDisallow: /wiki/Wikipedia:Changing_username\\nDisallow: /wiki/Wikipedia%3AChanging_username\\nDisallow: /wiki/Wikipedia_talk:Changing_username\\nDisallow: /wiki/Wikipedia_talk%3AChanging_username\\nDisallow: /wiki/Wikipedia_talk:Changing_username\\nDisallow: /wiki/Wikipedia_talk%3AChanging_username\\n#\\nDisallow: /wiki/Wikipedia:Administrators%27_noticeboard\\nDisallow: /wiki/Wikipedia%3AAdministrators%27_noticeboard\\nDisallow: /wiki/Wikipedia_talk:Administrators%27_noticeboard\\nDisallow: /wiki/Wikipedia_talk%3AAdministrators%27_noticeboard\\nDisallow: /wiki/Wikipedia:Community_sanction_noticeboard\\nDisallow: /wiki/Wikipedia%3ACommunity_sanction_noticeboard\\nDisallow: /wiki/Wikipedia_talk:Community_sanction_noticeboard\\nDisallow: /wiki/Wikipedia_talk%3ACommunity_sanction_noticeboard\\nDisallow: /wiki/Wikipedia:Bureaucrats%27_noticeboard\\nDisallow: /wiki/Wikipedia%3ABureaucrats%27_noticeboard\\nDisallow: /wiki/Wikipedia_talk:Bureaucrats%27_noticeboard\\nDisallow: /wiki/Wikipedia_talk%3ABureaucrats%27_noticeboard\\n#\\nDisallow: /wiki/Wikipedia:Sockpuppet_investigations\\nDisallow: /wiki/Wikipedia%3ASockpuppet_investigations\\nDisallow: /wiki/Wikipedia_talk:Sockpuppet_investigations\\nDisallow: /wiki/Wikipedia_talk%3ASockpuppet_investigations\\n#\\nDisallow: /wiki/Wikipedia:Neutral_point_of_view/Noticeboard\\nDisallow: /wiki/Wikipedia%3ANeutral_point_of_view/Noticeboard\\nDisallow: /wiki/Wikipedia_talk:Neutral_point_of_view/Noticeboard\\nDisallow: /wiki/Wikipedia_talk%3ANeutral_point_of_view/Noticeboard\\n#\\nDisallow: /wiki/Wikipedia:No_original_research/noticeboard\\nDisallow: /wiki/Wikipedia%3ANo_original_research/noticeboard\\nDisallow: /wiki/Wikipedia_talk:No_original_research/noticeboard\\nDisallow: /wiki/Wikipedia_talk%3ANo_original_research/noticeboard\\n#\\nDisallow: /wiki/Wikipedia:Fringe_theories/Noticeboard\\nDisallow: /wiki/Wikipedia%3AFringe_theories/Noticeboard\\nDisallow: /wiki/Wikipedia_talk:Fringe_theories/Noticeboard\\nDisallow: /wiki/Wikipedia_talk%3AFringe_theories/Noticeboard\\n#\\nDisallow: /wiki/Wikipedia:Conflict_of_interest/Noticeboard\\nDisallow: /wiki/Wikipedia%3AConflict_of_interest/Noticeboard\\nDisallow: /wiki/Wikipedia_talk:Conflict_of_interest/Noticeboard\\nDisallow: /wiki/Wikipedia_talk%3AConflict_of_interest/Noticeboard\\n#\\nDisallow: /wiki/Wikipedia:Long-term_abuse\\nDisallow: /wiki/Wikipedia%3ALong-term_abuse\\nDisallow: /wiki/Wikipedia_talk:Long-term_abuse\\nDisallow: /wiki/Wikipedia_talk%3ALong-term_abuse\\nDisallow: /wiki/Wikipedia:Long_term_abuse\\nDisallow: /wiki/Wikipedia%3ALong_term_abuse\\nDisallow: /wiki/Wikipedia_talk:Long_term_abuse\\nDisallow: /wiki/Wikipedia_talk%3ALong_term_abuse\\n#\\nDisallow: /wiki/Wikipedia:Wikiquette_assistance\\nDisallow: /wiki/Wikipedia%3AWikiquette_assistance\\n#\\nDisallow: /wiki/Wikipedia:Abuse_reports\\nDisallow: /wiki/Wikipedia%3AAbuse_reports\\nDisallow: /wiki/Wikipedia_talk:Abuse_reports\\nDisallow: /wiki/Wikipedia_talk%3AAbuse_reports\\nDisallow: /wiki/Wikipedia:Abuse_response\\nDisallow: /wiki/Wikipedia%3AAbuse_response\\nDisallow: /wiki/Wikipedia_talk:Abuse_response\\nDisallow: /wiki/Wikipedia_talk%3AAbuse_response\\n#\\nDisallow: /wiki/Wikipedia:Reliable_sources/Noticeboard\\nDisallow: /wiki/Wikipedia%3AReliable_sources/Noticeboard\\nDisallow: /wiki/Wikipedia_talk:Reliable_sources/Noticeboard\\nDisallow: /wiki/Wikipedia_talk%3AReliable_sources/Noticeboard\\n#\\nDisallow: /wiki/Wikipedia:Suspected_sock_puppets\\nDisallow: /wiki/Wikipedia%3ASuspected_sock_puppets\\nDisallow: /wiki/Wikipedia_talk:Suspected_sock_puppets\\nDisallow: /wiki/Wikipedia_talk%3ASuspected_sock_puppets\\n#\\nDisallow: /wiki/Wikipedia:Biographies_of_living_persons/Noticeboard\\nDisallow: /wiki/Wikipedia%3ABiographies_of_living_persons/Noticeboard\\nDisallow: /wiki/Wikipedia_talk:Biographies_of_living_persons/Noticeboard\\nDisallow: /wiki/Wikipedia_talk%3ABiographies_of_living_persons/Noticeboard\\n#\\nDisallow: /wiki/Wikipedia:Content_noticeboard\\nDisallow: /wiki/Wikipedia%3AContent_noticeboard\\nDisallow: /wiki/Wikipedia_talk:Content_noticeboard\\nDisallow: /wiki/Wikipedia_talk%3AContent_noticeboard\\n#\\nDisallow: /wiki/Template:Editnotices\\nDisallow: /wiki/Template%3AEditnotices\\n#\\nDisallow: /wiki/Wikipedia:Arbitration\\nDisallow: /wiki/Wikipedia%3AArbitration\\nDisallow: /wiki/Wikipedia_talk:Arbitration\\nDisallow: /wiki/Wikipedia_talk%3AArbitration\\n#\\nDisallow: /wiki/Wikipedia:Arbitration_Committee\\nDisallow: /wiki/Wikipedia%3AArbitration_Committee\\nDisallow: /wiki/Wikipedia_talk:Arbitration_Committee\\nDisallow: /wiki/Wikipedia_talk%3AArbitration_Committee\\n#\\nDisallow: /wiki/Wikipedia:Arbitration_Committee_Elections\\nDisallow: /wiki/Wikipedia%3AArbitration_Committee_Elections\\nDisallow: /wiki/Wikipedia_talk:Arbitration_Committee_Elections\\nDisallow: /wiki/Wikipedia_talk%3AArbitration_Committee_Elections\\n#\\nDisallow: /wiki/Wikipedia:Mediation_Committee\\nDisallow: /wiki/Wikipedia%3AMediation_Committee\\nDisallow: /wiki/Wikipedia_talk:Mediation_Committee\\nDisallow: /wiki/Wikipedia_talk%3AMediation_Committee\\n#\\nDisallow: /wiki/Wikipedia:Mediation_Cabal/Cases\\nDisallow: /wiki/Wikipedia%3AMediation_Cabal/Cases\\n#\\nDisallow: /wiki/Wikipedia:Requests_for_bureaucratship\\nDisallow: /wiki/Wikipedia%3ARequests_for_bureaucratship\\nDisallow: /wiki/Wikipedia_talk:Requests_for_bureaucratship\\nDisallow: /wiki/Wikipedia_talk%3ARequests_for_bureaucratship\\n#\\nDisallow: /wiki/Wikipedia:Administrator_review\\nDisallow: /wiki/Wikipedia%3AAdministrator_review\\nDisallow: /wiki/Wikipedia_talk:Administrator_review\\nDisallow: /wiki/Wikipedia_talk%3AAdministrator_review\\n#\\nDisallow: /wiki/Wikipedia:Editor_review\\nDisallow: /wiki/Wikipedia%3AEditor_review\\nDisallow: /wiki/Wikipedia_talk:Editor_review\\nDisallow: /wiki/Wikipedia_talk%3AEditor_review\\n#\\nDisallow: /wiki/Wikipedia:Article_Incubator\\nDisallow: /wiki/Wikipedia%3AArticle_Incubator\\nDisallow: /wiki/Wikipedia_talk:Article_Incubator\\nDisallow: /wiki/Wikipedia_talk%3AArticle_Incubator\\n#\\nDisallow: /wiki/Category:Noindexed_pages\\nDisallow: /wiki/Category%3ANoindexed_pages\\n#\\n# </pre>'"
      ]
     },
     "execution_count": 5,
     "metadata": {},
     "output_type": "execute_result"
    }
   ],
   "source": [
    "url = requests.get(\"https://en.wikipedia.org/robots.txt\")\n",
    "url.content\n",
    "\n"
   ]
  },
  {
   "cell_type": "markdown",
   "metadata": {},
   "source": [
    "### 2. Display the name of the most recently added dataset on data.gov."
   ]
  },
  {
   "cell_type": "code",
   "execution_count": 30,
   "metadata": {},
   "outputs": [
    {
     "name": "stdout",
     "output_type": "stream",
     "text": [
      "[<h3 class=\"dataset-heading\">\n",
      "<a href=\"/dataset/french-frigate-shoals-site-p1a-11-1-2002-17-18m\">French Frigate Shoals Site P1A 11/1/2002 17-18M</a>\n",
      "<!-- Snippet snippets/popular.html start -->\n",
      "<!-- Snippet snippets/popular.html end -->\n",
      "</h3>, <h3 class=\"dataset-heading\">\n",
      "<a href=\"/dataset/hanford-reach-highway-24-homestead-reclamation-project-2013\">Hanford Reach - Highway 24 Homestead Reclamation Project 2013</a>\n",
      "<!-- Snippet snippets/popular.html start -->\n",
      "<!-- Snippet snippets/popular.html end -->\n",
      "</h3>, <h3 class=\"dataset-heading\">\n",
      "<a href=\"/dataset/lateral-boundary-of-the-steady-state-ground-water-flow-model-by-dagnese-and-others-2002-death-vcbd95\">Lateral boundary of the steady-state ground-water flow model by D'Agnese and others (2002), Death Valley regional ground-water flow system, Nevada and California</a>\n",
      "<!-- Snippet snippets/popular.html start -->\n",
      "<!-- Snippet snippets/popular.html end -->\n",
      "</h3>, <h3 class=\"dataset-heading\">\n",
      "<a href=\"/dataset/little-river-nwr-inventory-and-monitoring-plan\">Little River NWR Inventory and Monitoring Plan</a>\n",
      "<!-- Snippet snippets/popular.html start -->\n",
      "<!-- Snippet snippets/popular.html end -->\n",
      "</h3>, <h3 class=\"dataset-heading\">\n",
      "<a href=\"/dataset/blm-rea-cop-2010-mule-deer-winter-habitat8a65b\">BLM REA COP 2010 Mule Deer: Winter Habitat</a>\n",
      "<!-- Snippet snippets/popular.html start -->\n",
      "<!-- Snippet snippets/popular.html end -->\n",
      "</h3>, <h3 class=\"dataset-heading\">\n",
      "<a href=\"/dataset/lacreek-national-wildlife-refuge-narrative-report-may-june-july-and-august-1952\">Lacreek National Wildlife Refuge Narrative report: May, June, July, and August, 1952</a>\n",
      "<!-- Snippet snippets/popular.html start -->\n",
      "<!-- Snippet snippets/popular.html end -->\n",
      "</h3>, <h3 class=\"dataset-heading\">\n",
      "<a href=\"/dataset/lisianski-island-site-p6-10-1-2002-44-45m\">Lisianski Island Site P6 10/1/2002 44-45M</a>\n",
      "<!-- Snippet snippets/popular.html start -->\n",
      "<!-- Snippet snippets/popular.html end -->\n",
      "</h3>, <h3 class=\"dataset-heading\">\n",
      "<a href=\"/dataset/alligator-river-national-wildlife-refuge-land-status-map-sheet-5-of-6\">Alligator River National Wildlife Refuge [Land Status Map: Sheet 5 of 6]</a>\n",
      "<!-- Snippet snippets/popular.html start -->\n",
      "<!-- Snippet snippets/popular.html end -->\n",
      "</h3>, <h3 class=\"dataset-heading\">\n",
      "<a href=\"/dataset/airborne-geophysical-survey-plattsburgh-new-york-and-vermont12ca6\">Airborne geophysical survey: Plattsburgh, New York and Vermont</a>\n",
      "<!-- Snippet snippets/popular.html start -->\n",
      "<!-- Snippet snippets/popular.html end -->\n",
      "</h3>, <h3 class=\"dataset-heading\">\n",
      "<a href=\"/dataset/rose-atoll-site-25p-7-30-1999-10-11m\">Rose Atoll Site 25P 7/30/1999 10-11M</a>\n",
      "<!-- Snippet snippets/popular.html start -->\n",
      "<!-- Snippet snippets/popular.html end -->\n",
      "</h3>, <h3 class=\"dataset-heading\">\n",
      "<a href=\"/dataset/k283ar-m77t-mgd77-data-file-for-geophysical-data-from-field-activity-k-2-83-ar-in-arct-22-1983\">k283ar.m77t - MGD77 data file for Geophysical data from field activity K-2-83-AR in Arctic and Beaufort Sea, Alaska from 08/05/1983 to 08/22/1983</a>\n",
      "<!-- Snippet snippets/popular.html start -->\n",
      "<!-- Snippet snippets/popular.html end -->\n",
      "</h3>, <h3 class=\"dataset-heading\">\n",
      "<a href=\"/dataset/management-plan-pacific-coast-brant\">Management plan, Pacific coast brant</a>\n",
      "<!-- Snippet snippets/popular.html start -->\n",
      "<!-- Snippet snippets/popular.html end -->\n",
      "</h3>, <h3 class=\"dataset-heading\">\n",
      "<a href=\"/dataset/the-road-inventory-of-deer-flat-national-wildlife-refuge\">The Road Inventory of Deer Flat National Wildlife Refuge</a>\n",
      "<!-- Snippet snippets/popular.html start -->\n",
      "<!-- Snippet snippets/popular.html end -->\n",
      "</h3>, <h3 class=\"dataset-heading\">\n",
      "<a href=\"/dataset/narrative-report-valentine-national-wildlife-refuge-january-1-to-april-30-1947\">Narrative report: Valentine National Wildlife Refuge: January 1 to April 30, 1947</a>\n",
      "<!-- Snippet snippets/popular.html start -->\n",
      "<!-- Snippet snippets/popular.html end -->\n",
      "</h3>, <h3 class=\"dataset-heading\">\n",
      "<a href=\"/dataset/1989-aquatic-areas-upper-mississippi-river-system-pool-26\">1989 Aquatic Areas - Upper Mississippi River System - Pool 26</a>\n",
      "<!-- Snippet snippets/popular.html start -->\n",
      "<!-- Snippet snippets/popular.html end -->\n",
      "</h3>, <h3 class=\"dataset-heading\">\n",
      "<a href=\"/dataset/midway-atoll-site-p14-9-24-2002-23-24m\">Midway Atoll Site P14 9/24/2002 23-24M</a>\n",
      "<!-- Snippet snippets/popular.html start -->\n",
      "<!-- Snippet snippets/popular.html end -->\n",
      "</h3>, <h3 class=\"dataset-heading\">\n",
      "<a href=\"/dataset/blm-rea-nwp-2011-regcm3-november-february-temperature-2050-2069\">BLM REA NWP 2011 RegCM3 November - February Temperature (2050-2069)</a>\n",
      "<!-- Snippet snippets/popular.html start -->\n",
      "<!-- Snippet snippets/popular.html end -->\n",
      "</h3>, <h3 class=\"dataset-heading\">\n",
      "<a href=\"/dataset/inventory-of-frog-species-in-the-south-carolina-sandhills-with-a-focus-on-the-pine-barrens-4be7\">Inventory of frog species in the South Carolina Sandhills with a focus on the pine barrens treefrog and the gopher frog</a>\n",
      "<!-- Snippet snippets/popular.html start -->\n",
      "<!-- Snippet snippets/popular.html end -->\n",
      "</h3>, <h3 class=\"dataset-heading\">\n",
      "<a href=\"/dataset/comma-delimited-text-file-of-the-porewater-salinity-values-of-cores-collected-august-2006-in-th\">Comma-delimited Text File of the Porewater Salinity Values of Cores Collected August, 2006 in the Nauset Marsh Area of Cape Cod, Massachusetts</a>\n",
      "<!-- Snippet snippets/popular.html start -->\n",
      "<!-- Snippet snippets/popular.html end -->\n",
      "</h3>, <h3 class=\"dataset-heading\">\n",
      "<a href=\"/dataset/an-environmental-quality-assessment-of-tennessee-national-wildlife-refuge\">An Environmental Quality Assessment of Tennessee National Wildlife Refuge</a>\n",
      "<!-- Snippet snippets/popular.html start -->\n",
      "<!-- Snippet snippets/popular.html end -->\n",
      "</h3>]\n"
     ]
    }
   ],
   "source": [
    "from bs4 import BeautifulSoup\n",
    "\n",
    "page = requests.get('http://catalog.data.gov/dataset?q=&sort=metadata_created+desc')\n",
    "soup = BeautifulSoup(page.content, 'html.parser')\n",
    "rec_add=soup.select('h3')\n",
    "print(rec_add)\n",
    "\n"
   ]
  },
  {
   "cell_type": "markdown",
   "metadata": {},
   "source": [
    "### 3. Number of datasets currently listed on data.gov "
   ]
  },
  {
   "cell_type": "code",
   "execution_count": 69,
   "metadata": {},
   "outputs": [],
   "source": [
    "# This is the url you will scrape in this exercise\n",
    "url = 'http://www.data.gov/'"
   ]
  },
  {
   "cell_type": "code",
   "execution_count": 80,
   "metadata": {},
   "outputs": [
    {
     "data": {
      "text/plain": [
       "'300,295 datasets'"
      ]
     },
     "execution_count": 80,
     "metadata": {},
     "output_type": "execute_result"
    }
   ],
   "source": [
    "page = requests.get (url).content\n",
    "soup = BeautifulSoup(page, 'lxml')\n",
    "datasets = soup.select('.container .text-center.getstarted [href] ')\n",
    "datasets[0].text.strip()\n"
   ]
  },
  {
   "cell_type": "markdown",
   "metadata": {},
   "source": [
    "### 4. Display all the image links from Walt Disney wikipedia page"
   ]
  },
  {
   "cell_type": "code",
   "execution_count": 9,
   "metadata": {},
   "outputs": [],
   "source": [
    "# This is the url you will scrape in this exercise\n",
    "url = 'https://en.wikipedia.org/wiki/Walt_Disney'"
   ]
  },
  {
   "cell_type": "code",
   "execution_count": 6,
   "metadata": {},
   "outputs": [],
   "source": [
    "#your code"
   ]
  },
  {
   "cell_type": "markdown",
   "metadata": {},
   "source": [
    "### 5. Retrieve an arbitary Wikipedia page of \"Python\" and create a list of links on that page"
   ]
  },
  {
   "cell_type": "code",
   "execution_count": 84,
   "metadata": {},
   "outputs": [],
   "source": [
    "# This is the url you will scrape in this exercise\n",
    "url2 ='https://en.wikipedia.org/wiki/Python' "
   ]
  },
  {
   "cell_type": "code",
   "execution_count": 98,
   "metadata": {},
   "outputs": [
    {
     "data": {
      "text/plain": [
       "[<a class=\"extiw\" href=\"https://en.wiktionary.org/wiki/Python\" title=\"wiktionary:Python\">Python</a>,\n",
       " <a class=\"extiw\" href=\"https://en.wiktionary.org/wiki/python\" title=\"wiktionary:python\">python</a>,\n",
       " <a href=\"#Snakes\"><span class=\"tocnumber\">1</span> <span class=\"toctext\">Snakes</span></a>,\n",
       " <a href=\"#Ancient_Greece\"><span class=\"tocnumber\">2</span> <span class=\"toctext\">Ancient Greece</span></a>,\n",
       " <a href=\"#Media_and_entertainment\"><span class=\"tocnumber\">3</span> <span class=\"toctext\">Media and entertainment</span></a>,\n",
       " <a href=\"#Computing\"><span class=\"tocnumber\">4</span> <span class=\"toctext\">Computing</span></a>,\n",
       " <a href=\"#Engineering\"><span class=\"tocnumber\">5</span> <span class=\"toctext\">Engineering</span></a>,\n",
       " <a href=\"#Roller_coasters\"><span class=\"tocnumber\">5.1</span> <span class=\"toctext\">Roller coasters</span></a>,\n",
       " <a href=\"#Vehicles\"><span class=\"tocnumber\">5.2</span> <span class=\"toctext\">Vehicles</span></a>,\n",
       " <a href=\"#Weaponry\"><span class=\"tocnumber\">5.3</span> <span class=\"toctext\">Weaponry</span></a>,\n",
       " <a href=\"#See_also\"><span class=\"tocnumber\">6</span> <span class=\"toctext\">See also</span></a>,\n",
       " <a href=\"/w/index.php?title=Python&amp;action=edit&amp;section=1\" title=\"Edit section: Snakes\">edit</a>,\n",
       " <a href=\"/wiki/Pythonidae\" title=\"Pythonidae\">Pythonidae</a>,\n",
       " <a href=\"/wiki/Python_(genus)\" title=\"Python (genus)\"><i>Python</i> (genus)</a>,\n",
       " <a href=\"/w/index.php?title=Python&amp;action=edit&amp;section=2\" title=\"Edit section: Ancient Greece\">edit</a>,\n",
       " <a href=\"/wiki/Python_(mythology)\" title=\"Python (mythology)\">Python (mythology)</a>,\n",
       " <a href=\"/wiki/Python_of_Aenus\" title=\"Python of Aenus\">Python of Aenus</a>,\n",
       " <a href=\"/wiki/Python_(painter)\" title=\"Python (painter)\">Python (painter)</a>,\n",
       " <a href=\"/wiki/Python_of_Byzantium\" title=\"Python of Byzantium\">Python of Byzantium</a>,\n",
       " <a href=\"/wiki/Python_of_Catana\" title=\"Python of Catana\">Python of Catana</a>,\n",
       " <a href=\"/w/index.php?title=Python&amp;action=edit&amp;section=3\" title=\"Edit section: Media and entertainment\">edit</a>,\n",
       " <a href=\"/wiki/Python_(film)\" title=\"Python (film)\"><i>Python</i> (film)</a>,\n",
       " <a href=\"/wiki/Pythons_2\" title=\"Pythons 2\">Pythons 2</a>,\n",
       " <a href=\"/wiki/Monty_Python\" title=\"Monty Python\">Monty Python</a>,\n",
       " <a href=\"/wiki/Python_(Monty)_Pictures\" title=\"Python (Monty) Pictures\">Python (Monty) Pictures</a>,\n",
       " <a href=\"/w/index.php?title=Python&amp;action=edit&amp;section=4\" title=\"Edit section: Computing\">edit</a>,\n",
       " <a href=\"/wiki/Python_(programming_language)\" title=\"Python (programming language)\">Python (programming language)</a>,\n",
       " <a href=\"/wiki/CPython\" title=\"CPython\">CPython</a>,\n",
       " <a href=\"/wiki/CMU_Common_Lisp\" title=\"CMU Common Lisp\">CMU Common Lisp</a>,\n",
       " <a href=\"/wiki/PERQ#PERQ_3\" title=\"PERQ\">PERQ 3</a>,\n",
       " <a href=\"/w/index.php?title=Python&amp;action=edit&amp;section=5\" title=\"Edit section: Engineering\">edit</a>,\n",
       " <a href=\"/w/index.php?title=Python&amp;action=edit&amp;section=6\" title=\"Edit section: Roller coasters\">edit</a>,\n",
       " <a href=\"/wiki/Python_(Busch_Gardens_Tampa_Bay)\" title=\"Python (Busch Gardens Tampa Bay)\">Python (Busch Gardens Tampa Bay)</a>,\n",
       " <a href=\"/wiki/Python_(Coney_Island,_Cincinnati,_Ohio)\" title=\"Python (Coney Island, Cincinnati, Ohio)\">Python (Coney Island, Cincinnati, Ohio)</a>,\n",
       " <a href=\"/wiki/Python_(Efteling)\" title=\"Python (Efteling)\">Python (Efteling)</a>,\n",
       " <a href=\"/w/index.php?title=Python&amp;action=edit&amp;section=7\" title=\"Edit section: Vehicles\">edit</a>,\n",
       " <a href=\"/wiki/Python_(automobile_maker)\" title=\"Python (automobile maker)\">Python (automobile maker)</a>,\n",
       " <a href=\"/wiki/Python_(Ford_prototype)\" title=\"Python (Ford prototype)\">Python (Ford prototype)</a>,\n",
       " <a href=\"/w/index.php?title=Python&amp;action=edit&amp;section=8\" title=\"Edit section: Weaponry\">edit</a>,\n",
       " <a href=\"/wiki/Colt_Python\" title=\"Colt Python\">Colt Python</a>,\n",
       " <a href=\"/wiki/Python_(missile)\" title=\"Python (missile)\">Python (missile)</a>,\n",
       " <a href=\"/w/index.php?title=Python&amp;action=edit&amp;section=9\" title=\"Edit section: See also\">edit</a>,\n",
       " <a href=\"/wiki/Cython\" title=\"Cython\">Cython</a>,\n",
       " <a href=\"/wiki/Pyton\" title=\"Pyton\">Pyton</a>,\n",
       " <a class=\"image\" href=\"/wiki/File:Disambig_gray.svg\"><img alt=\"Disambiguation icon\" data-file-height=\"168\" data-file-width=\"220\" height=\"23\" src=\"//upload.wikimedia.org/wikipedia/en/thumb/5/5f/Disambig_gray.svg/30px-Disambig_gray.svg.png\" srcset=\"//upload.wikimedia.org/wikipedia/en/thumb/5/5f/Disambig_gray.svg/45px-Disambig_gray.svg.png 1.5x, //upload.wikimedia.org/wikipedia/en/thumb/5/5f/Disambig_gray.svg/60px-Disambig_gray.svg.png 2x\" width=\"30\"/></a>,\n",
       " <a href=\"/wiki/Help:Disambiguation\" title=\"Help:Disambiguation\">disambiguation</a>,\n",
       " <a class=\"external text\" href=\"//en.wikipedia.org/w/index.php?title=Special:WhatLinksHere/Python&amp;namespace=0\">internal link</a>]"
      ]
     },
     "execution_count": 98,
     "metadata": {},
     "output_type": "execute_result"
    }
   ],
   "source": [
    "page = requests.get (url2).content\n",
    "soup = BeautifulSoup(page, 'lxml')\n",
    "soup\n",
    "links = soup.select('.mw-parser-output [href]')\n",
    "\n",
    "links"
   ]
  },
  {
   "cell_type": "markdown",
   "metadata": {},
   "source": [
    "### 6. Number of Titles that have changed in the United States Code since its last release point "
   ]
  },
  {
   "cell_type": "code",
   "execution_count": 100,
   "metadata": {},
   "outputs": [],
   "source": [
    "# This is the url you will scrape in this exercise\n",
    "url3 = 'http://uscode.house.gov/download/download.shtml'"
   ]
  },
  {
   "cell_type": "code",
   "execution_count": 126,
   "metadata": {},
   "outputs": [
    {
     "data": {
      "text/plain": [
       "18"
      ]
     },
     "execution_count": 126,
     "metadata": {},
     "output_type": "execute_result"
    }
   ],
   "source": [
    "page = requests.get (url3).content\n",
    "soup = BeautifulSoup(page, 'lxml')\n",
    "soup\n",
    "\n",
    "titles= soup.select('.uscitem .usctitlechanged')\n",
    "len(titles)\n",
    "\n"
   ]
  },
  {
   "cell_type": "markdown",
   "metadata": {},
   "source": [
    "### 7. A Python list with the top ten FBI's Most Wanted names "
   ]
  },
  {
   "cell_type": "code",
   "execution_count": 128,
   "metadata": {},
   "outputs": [],
   "source": [
    "# This is the url you will scrape in this exercise\n",
    "url4 = 'https://www.fbi.gov/wanted/topten'"
   ]
  },
  {
   "cell_type": "code",
   "execution_count": null,
   "metadata": {},
   "outputs": [],
   "source": [
    "mostwanted= wanted.select('.a[href^=\"https\"]')\n",
    "\n",
    " (soup.find_all(class_='row top-total.a[href^=\"https\"]')                      \n",
    "\n",
    "mostwanted"
   ]
  },
  {
   "cell_type": "code",
   "execution_count": 210,
   "metadata": {},
   "outputs": [
    {
     "data": {
      "text/plain": [
       "['BHADRESHKUMAR CHETANBHAI PATEL',\n",
       " 'LAMONT STEPHENSON',\n",
       " 'JASON DEREK BROWN',\n",
       " 'GREG ALYN CARLSON',\n",
       " 'SANTIAGO VILLALBA MEDEROS',\n",
       " 'RAFAEL CARO-QUINTERO',\n",
       " 'ROBERT WILLIAM FISHER',\n",
       " 'ALEXIS FLORES',\n",
       " 'ALEJANDRO ROSALES CASTILLO',\n",
       " 'YASER ABDEL SAID']"
      ]
     },
     "execution_count": 210,
     "metadata": {},
     "output_type": "execute_result"
    }
   ],
   "source": [
    "page= requests.get(url4).content\n",
    "soup= BeautifulSoup(page,'lxml')\n",
    "wanted= (soup.select('h3'))\n",
    "most_wanted=[item.select('a')[0].string for item in wanted]  \n",
    "most_wanted\n",
    "\n",
    "         \n",
    "\n"
   ]
  },
  {
   "cell_type": "code",
   "execution_count": 201,
   "metadata": {},
   "outputs": [
    {
     "data": {
      "text/plain": [
       "'BHADRESHKUMAR CHETANBHAI PATEL'"
      ]
     },
     "execution_count": 201,
     "metadata": {},
     "output_type": "execute_result"
    }
   ],
   "source": [
    "wanted[0].select('a')[0].string"
   ]
  },
  {
   "cell_type": "markdown",
   "metadata": {},
   "source": [
    "### 8.  20 latest earthquakes info (date, time, latitude, longitude and region name) by the EMSC as a pandas dataframe"
   ]
  },
  {
   "cell_type": "code",
   "execution_count": 32,
   "metadata": {},
   "outputs": [],
   "source": [
    "# This is the url you will scrape in this exercise\n",
    "url = 'https://www.emsc-csem.org/Earthquake/'"
   ]
  },
  {
   "cell_type": "code",
   "execution_count": 10,
   "metadata": {},
   "outputs": [],
   "source": [
    "#your code"
   ]
  },
  {
   "cell_type": "markdown",
   "metadata": {},
   "source": [
    "### 9. Display the date, days, title, city, country of next 25 Hackevents as a table"
   ]
  },
  {
   "cell_type": "code",
   "execution_count": 3,
   "metadata": {},
   "outputs": [],
   "source": [
    "# This is the url you will scrape in this exercise\n",
    "url5 ='https://hackevents.co/hackathons'"
   ]
  },
  {
   "cell_type": "code",
   "execution_count": 55,
   "metadata": {},
   "outputs": [
    {
     "data": {
      "text/plain": [
       "[<p class=\"location-and-date\">\n",
       " <span class=\"city\">Boston</span>, <span class=\"country\">United States</span>\n",
       " <br/>\n",
       " <span class=\"info-date\">\n",
       "         \n",
       "          1\n",
       "         -\n",
       "         15 March\n",
       "       </span>\n",
       " </p>, <p class=\"location-and-date\">\n",
       " <span class=\"city\">Dublin</span>, <span class=\"country\">Ireland</span>\n",
       " <br/>\n",
       " <span class=\"info-date\">\n",
       "         \n",
       "          2\n",
       "         -\n",
       "          4 November\n",
       "       </span>\n",
       " </p>, <p class=\"location-and-date\">\n",
       " <span class=\"city\">San Juan</span>, <span class=\"country\">Puerto Rico</span>\n",
       " <br/>\n",
       " <span class=\"info-date\">\n",
       "         \n",
       "          2\n",
       "         -\n",
       "          4 November\n",
       "       </span>\n",
       " </p>, <p class=\"location-and-date\">\n",
       " <span class=\"city\">Bremen</span>, <span class=\"country\">Germany</span>\n",
       " <br/>\n",
       " <span class=\"info-date\">\n",
       "         \n",
       "          3\n",
       "         -\n",
       "          4 November\n",
       "       </span>\n",
       " </p>, <p class=\"location-and-date\">\n",
       " <span class=\"city\">St. Louis</span>, <span class=\"country\">USA</span>\n",
       " <br/>\n",
       " <span class=\"info-date\">\n",
       "         \n",
       "          3\n",
       "         -\n",
       "          3 November\n",
       "       </span>\n",
       " </p>, <p class=\"location-and-date\">\n",
       " <span class=\"city\">Bremen</span>, <span class=\"country\">Germany</span>\n",
       " <br/>\n",
       " <span class=\"info-date\">\n",
       "         \n",
       "          3\n",
       "         -\n",
       "          4 November\n",
       "       </span>\n",
       " </p>, <p class=\"location-and-date\">\n",
       " <span class=\"city\">Bremen</span>, <span class=\"country\">Germany</span>\n",
       " <br/>\n",
       " <span class=\"info-date\">\n",
       "         \n",
       "          3\n",
       "         -\n",
       "          4 November\n",
       "       </span>\n",
       " </p>, <p class=\"location-and-date\">\n",
       " <span class=\"city\">Birmingham</span>, <span class=\"country\">United Kingdom</span>\n",
       " <br/>\n",
       " <span class=\"info-date\">\n",
       "         \n",
       "          3\n",
       "         -\n",
       "          4 November\n",
       "       </span>\n",
       " </p>, <p class=\"location-and-date\">\n",
       " <span class=\"city\">Bremen</span>, <span class=\"country\">Germany</span>\n",
       " <br/>\n",
       " <span class=\"info-date\">\n",
       "         \n",
       "          3\n",
       "         -\n",
       "          4 November\n",
       "       </span>\n",
       " </p>, <p class=\"location-and-date\">\n",
       " <span class=\"city\">Bremen</span>, <span class=\"country\">Germany</span>\n",
       " <br/>\n",
       " <span class=\"info-date\">\n",
       "         \n",
       "          3\n",
       "         -\n",
       "          4 November\n",
       "       </span>\n",
       " </p>, <p class=\"location-and-date\">\n",
       " <span class=\"city\">Bremen</span>, <span class=\"country\">Germany</span>\n",
       " <br/>\n",
       " <span class=\"info-date\">\n",
       "         \n",
       "          3\n",
       "         -\n",
       "          4 November\n",
       "       </span>\n",
       " </p>, <p class=\"location-and-date\">\n",
       " <span class=\"city\">Bremen</span>, <span class=\"country\">Germany</span>\n",
       " <br/>\n",
       " <span class=\"info-date\">\n",
       "         \n",
       "          3\n",
       "         -\n",
       "          4 November\n",
       "       </span>\n",
       " </p>, <p class=\"location-and-date\">\n",
       " <span class=\"city\">Bremen</span>, <span class=\"country\">Germany</span>\n",
       " <br/>\n",
       " <span class=\"info-date\">\n",
       "         \n",
       "          3\n",
       "         -\n",
       "          4 November\n",
       "       </span>\n",
       " </p>, <p class=\"location-and-date\">\n",
       " <span class=\"city\">Bremen</span>, <span class=\"country\">Germany</span>\n",
       " <br/>\n",
       " <span class=\"info-date\">\n",
       "         \n",
       "          3\n",
       "         -\n",
       "          4 November\n",
       "       </span>\n",
       " </p>, <p class=\"location-and-date\">\n",
       " <span class=\"city\">Bremen</span>, <span class=\"country\">Germany</span>\n",
       " <br/>\n",
       " <span class=\"info-date\">\n",
       "         \n",
       "          3\n",
       "         -\n",
       "          4 November\n",
       "       </span>\n",
       " </p>, <p class=\"location-and-date\">\n",
       " <span class=\"city\">Bremen</span>, <span class=\"country\">Germany</span>\n",
       " <br/>\n",
       " <span class=\"info-date\">\n",
       "         \n",
       "          3\n",
       "         -\n",
       "          4 November\n",
       "       </span>\n",
       " </p>, <p class=\"location-and-date\">\n",
       " <span class=\"city\">Bremen</span>, <span class=\"country\">Germany</span>\n",
       " <br/>\n",
       " <span class=\"info-date\">\n",
       "         \n",
       "          3\n",
       "         -\n",
       "          4 November\n",
       "       </span>\n",
       " </p>, <p class=\"location-and-date\">\n",
       " <span class=\"city\">Bremen</span>, <span class=\"country\">Germany</span>\n",
       " <br/>\n",
       " <span class=\"info-date\">\n",
       "         \n",
       "          3\n",
       "         -\n",
       "          4 November\n",
       "       </span>\n",
       " </p>, <p class=\"location-and-date\">\n",
       " <span class=\"city\">St. Louis</span>, <span class=\"country\">USA</span>\n",
       " <br/>\n",
       " <span class=\"info-date\">\n",
       "         \n",
       "          3\n",
       "         -\n",
       "          3 November\n",
       "       </span>\n",
       " </p>, <p class=\"location-and-date\">\n",
       " <span class=\"city\">Bremen</span>, <span class=\"country\">Germany</span>\n",
       " <br/>\n",
       " <span class=\"info-date\">\n",
       "         \n",
       "          3\n",
       "         -\n",
       "          4 November\n",
       "       </span>\n",
       " </p>, <p class=\"location-and-date\">\n",
       " <span class=\"city\">Bremen</span>, <span class=\"country\">Germany</span>\n",
       " <br/>\n",
       " <span class=\"info-date\">\n",
       "         \n",
       "          3\n",
       "         -\n",
       "          4 November\n",
       "       </span>\n",
       " </p>, <p class=\"location-and-date\">\n",
       " <span class=\"city\">Bremen</span>, <span class=\"country\">Germany</span>\n",
       " <br/>\n",
       " <span class=\"info-date\">\n",
       "         \n",
       "          3\n",
       "         -\n",
       "          4 November\n",
       "       </span>\n",
       " </p>, <p class=\"location-and-date\">\n",
       " <span class=\"city\">Bremen</span>, <span class=\"country\">Germany</span>\n",
       " <br/>\n",
       " <span class=\"info-date\">\n",
       "         \n",
       "          3\n",
       "         -\n",
       "          4 November\n",
       "       </span>\n",
       " </p>, <p class=\"location-and-date\">\n",
       " <span class=\"city\">Bremen</span>, <span class=\"country\">Germany</span>\n",
       " <br/>\n",
       " <span class=\"info-date\">\n",
       "         \n",
       "          3\n",
       "         -\n",
       "          4 November\n",
       "       </span>\n",
       " </p>, <p class=\"location-and-date\">\n",
       " <span class=\"city\">Bremen</span>, <span class=\"country\">Germany</span>\n",
       " <br/>\n",
       " <span class=\"info-date\">\n",
       "         \n",
       "          3\n",
       "         -\n",
       "          4 November\n",
       "       </span>\n",
       " </p>]"
      ]
     },
     "execution_count": 55,
     "metadata": {},
     "output_type": "execute_result"
    }
   ],
   "source": [
    "page= requests.get(url5).content\n",
    "soup= BeautifulSoup(page,'lxml')\n",
    "\n",
    "tabla=soup.find_all(class_= 'location-and-date')\n",
    "\n",
    "tabla"
   ]
  },
  {
   "cell_type": "code",
   "execution_count": 67,
   "metadata": {},
   "outputs": [
    {
     "data": {
      "text/html": [
       "<div>\n",
       "<style scoped>\n",
       "    .dataframe tbody tr th:only-of-type {\n",
       "        vertical-align: middle;\n",
       "    }\n",
       "\n",
       "    .dataframe tbody tr th {\n",
       "        vertical-align: top;\n",
       "    }\n",
       "\n",
       "    .dataframe thead th {\n",
       "        text-align: right;\n",
       "    }\n",
       "</style>\n",
       "<table border=\"1\" class=\"dataframe\">\n",
       "  <thead>\n",
       "    <tr style=\"text-align: right;\">\n",
       "      <th></th>\n",
       "      <th>0</th>\n",
       "    </tr>\n",
       "  </thead>\n",
       "  <tbody>\n",
       "    <tr>\n",
       "      <th>0</th>\n",
       "      <td>&lt;div class=\"hackathon \"&gt;\n",
       "&lt;div class=\"date\"&gt;\n",
       "&lt;d...</td>\n",
       "    </tr>\n",
       "    <tr>\n",
       "      <th>1</th>\n",
       "      <td>&lt;div class=\"hackathon \"&gt;\n",
       "&lt;div class=\"date\"&gt;\n",
       "&lt;d...</td>\n",
       "    </tr>\n",
       "    <tr>\n",
       "      <th>2</th>\n",
       "      <td>&lt;div class=\"hackathon \"&gt;\n",
       "&lt;div class=\"date\"&gt;\n",
       "&lt;d...</td>\n",
       "    </tr>\n",
       "    <tr>\n",
       "      <th>3</th>\n",
       "      <td>&lt;div class=\"hackathon \"&gt;\n",
       "&lt;div class=\"date\"&gt;\n",
       "&lt;d...</td>\n",
       "    </tr>\n",
       "    <tr>\n",
       "      <th>4</th>\n",
       "      <td>&lt;div class=\"hackathon \"&gt;\n",
       "&lt;div class=\"date\"&gt;\n",
       "&lt;d...</td>\n",
       "    </tr>\n",
       "    <tr>\n",
       "      <th>5</th>\n",
       "      <td>&lt;div class=\"hackathon \"&gt;\n",
       "&lt;div class=\"date\"&gt;\n",
       "&lt;d...</td>\n",
       "    </tr>\n",
       "    <tr>\n",
       "      <th>6</th>\n",
       "      <td>&lt;div class=\"hackathon \"&gt;\n",
       "&lt;div class=\"date\"&gt;\n",
       "&lt;d...</td>\n",
       "    </tr>\n",
       "    <tr>\n",
       "      <th>7</th>\n",
       "      <td>&lt;div class=\"hackathon \"&gt;\n",
       "&lt;div class=\"date\"&gt;\n",
       "&lt;d...</td>\n",
       "    </tr>\n",
       "    <tr>\n",
       "      <th>8</th>\n",
       "      <td>&lt;div class=\"hackathon \"&gt;\n",
       "&lt;div class=\"date\"&gt;\n",
       "&lt;d...</td>\n",
       "    </tr>\n",
       "    <tr>\n",
       "      <th>9</th>\n",
       "      <td>&lt;div class=\"hackathon \"&gt;\n",
       "&lt;div class=\"date\"&gt;\n",
       "&lt;d...</td>\n",
       "    </tr>\n",
       "    <tr>\n",
       "      <th>10</th>\n",
       "      <td>&lt;div class=\"hackathon \"&gt;\n",
       "&lt;div class=\"date\"&gt;\n",
       "&lt;d...</td>\n",
       "    </tr>\n",
       "    <tr>\n",
       "      <th>11</th>\n",
       "      <td>&lt;div class=\"hackathon \"&gt;\n",
       "&lt;div class=\"date\"&gt;\n",
       "&lt;d...</td>\n",
       "    </tr>\n",
       "    <tr>\n",
       "      <th>12</th>\n",
       "      <td>&lt;div class=\"hackathon \"&gt;\n",
       "&lt;div class=\"date\"&gt;\n",
       "&lt;d...</td>\n",
       "    </tr>\n",
       "    <tr>\n",
       "      <th>13</th>\n",
       "      <td>&lt;div class=\"hackathon \"&gt;\n",
       "&lt;div class=\"date\"&gt;\n",
       "&lt;d...</td>\n",
       "    </tr>\n",
       "    <tr>\n",
       "      <th>14</th>\n",
       "      <td>&lt;div class=\"hackathon \"&gt;\n",
       "&lt;div class=\"date\"&gt;\n",
       "&lt;d...</td>\n",
       "    </tr>\n",
       "    <tr>\n",
       "      <th>15</th>\n",
       "      <td>&lt;div class=\"hackathon \"&gt;\n",
       "&lt;div class=\"date\"&gt;\n",
       "&lt;d...</td>\n",
       "    </tr>\n",
       "    <tr>\n",
       "      <th>16</th>\n",
       "      <td>&lt;div class=\"hackathon \"&gt;\n",
       "&lt;div class=\"date\"&gt;\n",
       "&lt;d...</td>\n",
       "    </tr>\n",
       "    <tr>\n",
       "      <th>17</th>\n",
       "      <td>&lt;div class=\"hackathon \"&gt;\n",
       "&lt;div class=\"date\"&gt;\n",
       "&lt;d...</td>\n",
       "    </tr>\n",
       "    <tr>\n",
       "      <th>18</th>\n",
       "      <td>&lt;div class=\"hackathon \"&gt;\n",
       "&lt;div class=\"date\"&gt;\n",
       "&lt;d...</td>\n",
       "    </tr>\n",
       "    <tr>\n",
       "      <th>19</th>\n",
       "      <td>&lt;div class=\"hackathon \"&gt;\n",
       "&lt;div class=\"date\"&gt;\n",
       "&lt;d...</td>\n",
       "    </tr>\n",
       "    <tr>\n",
       "      <th>20</th>\n",
       "      <td>&lt;div class=\"hackathon \"&gt;\n",
       "&lt;div class=\"date\"&gt;\n",
       "&lt;d...</td>\n",
       "    </tr>\n",
       "    <tr>\n",
       "      <th>21</th>\n",
       "      <td>&lt;div class=\"hackathon \"&gt;\n",
       "&lt;div class=\"date\"&gt;\n",
       "&lt;d...</td>\n",
       "    </tr>\n",
       "    <tr>\n",
       "      <th>22</th>\n",
       "      <td>&lt;div class=\"hackathon \"&gt;\n",
       "&lt;div class=\"date\"&gt;\n",
       "&lt;d...</td>\n",
       "    </tr>\n",
       "    <tr>\n",
       "      <th>23</th>\n",
       "      <td>&lt;div class=\"hackathon \"&gt;\n",
       "&lt;div class=\"date\"&gt;\n",
       "&lt;d...</td>\n",
       "    </tr>\n",
       "    <tr>\n",
       "      <th>24</th>\n",
       "      <td>&lt;div class=\"hackathon \"&gt;\n",
       "&lt;div class=\"date\"&gt;\n",
       "&lt;d...</td>\n",
       "    </tr>\n",
       "  </tbody>\n",
       "</table>\n",
       "</div>"
      ],
      "text/plain": [
       "                                                    0\n",
       "0   <div class=\"hackathon \">\n",
       "<div class=\"date\">\n",
       "<d...\n",
       "1   <div class=\"hackathon \">\n",
       "<div class=\"date\">\n",
       "<d...\n",
       "2   <div class=\"hackathon \">\n",
       "<div class=\"date\">\n",
       "<d...\n",
       "3   <div class=\"hackathon \">\n",
       "<div class=\"date\">\n",
       "<d...\n",
       "4   <div class=\"hackathon \">\n",
       "<div class=\"date\">\n",
       "<d...\n",
       "5   <div class=\"hackathon \">\n",
       "<div class=\"date\">\n",
       "<d...\n",
       "6   <div class=\"hackathon \">\n",
       "<div class=\"date\">\n",
       "<d...\n",
       "7   <div class=\"hackathon \">\n",
       "<div class=\"date\">\n",
       "<d...\n",
       "8   <div class=\"hackathon \">\n",
       "<div class=\"date\">\n",
       "<d...\n",
       "9   <div class=\"hackathon \">\n",
       "<div class=\"date\">\n",
       "<d...\n",
       "10  <div class=\"hackathon \">\n",
       "<div class=\"date\">\n",
       "<d...\n",
       "11  <div class=\"hackathon \">\n",
       "<div class=\"date\">\n",
       "<d...\n",
       "12  <div class=\"hackathon \">\n",
       "<div class=\"date\">\n",
       "<d...\n",
       "13  <div class=\"hackathon \">\n",
       "<div class=\"date\">\n",
       "<d...\n",
       "14  <div class=\"hackathon \">\n",
       "<div class=\"date\">\n",
       "<d...\n",
       "15  <div class=\"hackathon \">\n",
       "<div class=\"date\">\n",
       "<d...\n",
       "16  <div class=\"hackathon \">\n",
       "<div class=\"date\">\n",
       "<d...\n",
       "17  <div class=\"hackathon \">\n",
       "<div class=\"date\">\n",
       "<d...\n",
       "18  <div class=\"hackathon \">\n",
       "<div class=\"date\">\n",
       "<d...\n",
       "19  <div class=\"hackathon \">\n",
       "<div class=\"date\">\n",
       "<d...\n",
       "20  <div class=\"hackathon \">\n",
       "<div class=\"date\">\n",
       "<d...\n",
       "21  <div class=\"hackathon \">\n",
       "<div class=\"date\">\n",
       "<d...\n",
       "22  <div class=\"hackathon \">\n",
       "<div class=\"date\">\n",
       "<d...\n",
       "23  <div class=\"hackathon \">\n",
       "<div class=\"date\">\n",
       "<d...\n",
       "24  <div class=\"hackathon \">\n",
       "<div class=\"date\">\n",
       "<d..."
      ]
     },
     "metadata": {},
     "output_type": "display_data"
    }
   ],
   "source": [
    "tabla=soup.select('.hackathon ')\n",
    "df = pd.DataFrame(tabla)\n",
    "\n",
    "display(df)"
   ]
  },
  {
   "cell_type": "markdown",
   "metadata": {},
   "source": [
    "### 10. Count number of tweets by a given Twitter account."
   ]
  },
  {
   "cell_type": "markdown",
   "metadata": {},
   "source": [
    "You will need to include a ***try/except block*** for account names not found. \n",
    "<br>***Hint:*** the program should count the number of tweets for any provided account"
   ]
  },
  {
   "cell_type": "code",
   "execution_count": 52,
   "metadata": {},
   "outputs": [],
   "source": [
    "# This is the url you will scrape in this exercise \n",
    "# You will need to add the account credentials to this url\n",
    "url = 'https://twitter.com/'"
   ]
  },
  {
   "cell_type": "code",
   "execution_count": 12,
   "metadata": {},
   "outputs": [],
   "source": [
    "#your code"
   ]
  },
  {
   "cell_type": "markdown",
   "metadata": {},
   "source": [
    "### 11.Number of followers of a given twitter account"
   ]
  },
  {
   "cell_type": "markdown",
   "metadata": {},
   "source": [
    "You will need to include a ***try/except block*** in case account/s name not found. \n",
    "<br>***Hint:*** the program should count the followers for any provided account"
   ]
  },
  {
   "cell_type": "code",
   "execution_count": 51,
   "metadata": {},
   "outputs": [],
   "source": [
    "# This is the url you will scrape in this exercise \n",
    "# You will need to add the account credentials to this url\n",
    "url = 'https://twitter.com/'"
   ]
  },
  {
   "cell_type": "code",
   "execution_count": 13,
   "metadata": {},
   "outputs": [],
   "source": [
    "#your code"
   ]
  },
  {
   "cell_type": "markdown",
   "metadata": {},
   "source": [
    "### 12. List all language names and number of related articles in the order they appear in wikipedia.org"
   ]
  },
  {
   "cell_type": "code",
   "execution_count": 39,
   "metadata": {},
   "outputs": [],
   "source": [
    "# This is the url you will scrape in this exercise\n",
    "url = 'https://www.wikipedia.org/'"
   ]
  },
  {
   "cell_type": "code",
   "execution_count": 14,
   "metadata": {},
   "outputs": [],
   "source": [
    "#your code"
   ]
  },
  {
   "cell_type": "markdown",
   "metadata": {},
   "source": [
    "### 13. A list with the different kind of datasets available in data.gov.uk "
   ]
  },
  {
   "cell_type": "code",
   "execution_count": 5,
   "metadata": {},
   "outputs": [],
   "source": [
    "# This is the url you will scrape in this exercise\n",
    "url = 'https://data.gov.uk/'"
   ]
  },
  {
   "cell_type": "code",
   "execution_count": 15,
   "metadata": {},
   "outputs": [],
   "source": [
    "#your code "
   ]
  },
  {
   "cell_type": "markdown",
   "metadata": {},
   "source": [
    "### 14. The total number of publications produced by the GAO (U.S. Government Accountability Office)"
   ]
  },
  {
   "cell_type": "code",
   "execution_count": 45,
   "metadata": {},
   "outputs": [],
   "source": [
    "# This is the url you will scrape in this exercise\n",
    "url = 'http://www.gao.gov/browse/date/custom'"
   ]
  },
  {
   "cell_type": "code",
   "execution_count": 16,
   "metadata": {},
   "outputs": [],
   "source": [
    "#your code "
   ]
  },
  {
   "cell_type": "markdown",
   "metadata": {},
   "source": [
    "### 15. Top 10 languages by number of native speakers stored in a Pandas Dataframe"
   ]
  },
  {
   "cell_type": "code",
   "execution_count": 27,
   "metadata": {},
   "outputs": [],
   "source": [
    "# This is the url you will scrape in this exercise\n",
    "url = 'https://en.wikipedia.org/wiki/List_of_languages_by_number_of_native_speakers'"
   ]
  },
  {
   "cell_type": "code",
   "execution_count": 17,
   "metadata": {},
   "outputs": [],
   "source": [
    "#your code"
   ]
  },
  {
   "cell_type": "markdown",
   "metadata": {},
   "source": [
    "### BONUS QUESTIONS"
   ]
  },
  {
   "cell_type": "markdown",
   "metadata": {},
   "source": [
    "### 16. Scrape a certain number of tweets of a given Twitter account."
   ]
  },
  {
   "cell_type": "code",
   "execution_count": 53,
   "metadata": {},
   "outputs": [],
   "source": [
    "# This is the url you will scrape in this exercise \n",
    "# You will need to add the account credentials to this url\n",
    "url = 'https://twitter.com/'"
   ]
  },
  {
   "cell_type": "code",
   "execution_count": 19,
   "metadata": {},
   "outputs": [],
   "source": [
    "# your code"
   ]
  },
  {
   "cell_type": "markdown",
   "metadata": {},
   "source": [
    "### 17. IMDB's Top 250 data (movie name, Initial release, director name and stars) as a pandas dataframe"
   ]
  },
  {
   "cell_type": "code",
   "execution_count": 35,
   "metadata": {},
   "outputs": [],
   "source": [
    "# This is the url you will scrape in this exercise \n",
    "url = 'https://www.imdb.com/chart/top'"
   ]
  },
  {
   "cell_type": "code",
   "execution_count": 20,
   "metadata": {},
   "outputs": [],
   "source": [
    "# your code"
   ]
  },
  {
   "cell_type": "markdown",
   "metadata": {},
   "source": [
    "### 18. Movie name, year and a brief summary of the top 10 random movies (IMDB) as a pandas dataframe."
   ]
  },
  {
   "cell_type": "code",
   "execution_count": 54,
   "metadata": {},
   "outputs": [],
   "source": [
    "#This is the url you will scrape in this exercise\n",
    "url = 'http://www.imdb.com/chart/top'"
   ]
  },
  {
   "cell_type": "code",
   "execution_count": 21,
   "metadata": {},
   "outputs": [],
   "source": [
    "#your code"
   ]
  },
  {
   "cell_type": "markdown",
   "metadata": {},
   "source": [
    "### 19. Find the live weather report (temperature, wind speed, description and weather) of a given city."
   ]
  },
  {
   "cell_type": "code",
   "execution_count": null,
   "metadata": {},
   "outputs": [],
   "source": [
    "#https://openweathermap.org/current\n",
    "city = city=input('Enter the city:')\n",
    "url = 'http://api.openweathermap.org/data/2.5/weather?'+'q='+city+'&APPID=b35975e18dc93725acb092f7272cc6b8&units=metric'"
   ]
  },
  {
   "cell_type": "code",
   "execution_count": 22,
   "metadata": {},
   "outputs": [],
   "source": [
    "# your code"
   ]
  },
  {
   "cell_type": "markdown",
   "metadata": {},
   "source": [
    "### 20. Book name,price and stock availability as a pandas dataframe."
   ]
  },
  {
   "cell_type": "code",
   "execution_count": 55,
   "metadata": {},
   "outputs": [],
   "source": [
    "# This is the url you will scrape in this exercise. \n",
    "# It is a fictional bookstore created to be scraped. \n",
    "url = 'http://books.toscrape.com/'"
   ]
  },
  {
   "cell_type": "code",
   "execution_count": 23,
   "metadata": {},
   "outputs": [],
   "source": [
    "#your code"
   ]
  }
 ],
 "metadata": {
  "kernelspec": {
   "display_name": "Python 3",
   "language": "python",
   "name": "python3"
  },
  "language_info": {
   "codemirror_mode": {
    "name": "ipython",
    "version": 3
   },
   "file_extension": ".py",
   "mimetype": "text/x-python",
   "name": "python",
   "nbconvert_exporter": "python",
   "pygments_lexer": "ipython3",
   "version": "3.6.6"
  }
 },
 "nbformat": 4,
 "nbformat_minor": 2
}
