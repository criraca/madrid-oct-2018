{
 "cells": [
  {
   "cell_type": "markdown",
   "metadata": {},
   "source": [
    "# Before your start:\n",
    "- Read the README.md file\n",
    "- Comment as much as you can and use the resources (README.md file)\n",
    "- Happy learning!"
   ]
  },
  {
   "cell_type": "code",
   "execution_count": 162,
   "metadata": {},
   "outputs": [],
   "source": [
    "from scipy.stats import poisson\n",
    "from scipy.stats import norm\n",
    "from scipy.stats import  binom\n",
    "import scipy.stats as stats\n",
    "import matplotlib.pyplot as plt\n",
    "%matplotlib inline\n",
    "import random\n",
    "import math\n",
    "import numpy as np\n",
    "import seaborn as sns\n"
   ]
  },
  {
   "cell_type": "markdown",
   "metadata": {},
   "source": [
    "# Challenge 1 - Generate and Plot Normal Distributions"
   ]
  },
  {
   "cell_type": "markdown",
   "metadata": {},
   "source": [
    "#### Step 1: Generate samples and test normal distribution\n",
    "\n",
    "Use mean=50, standard_deviation=5, and sample_size=[10, 50, 500, 5000] to generate 4 random samples that are normally distributed. Test your normal distributions with [`scipy.stats.normaltest`](https://docs.scipy.org/doc/scipy/reference/generated/scipy.stats.normaltest.html).\n",
    "\n",
    "\n",
    "*Hint: Read the documentation for `scipy.stats.normaltest`. The function does not simply return Yes or No for whether your data is normal distribution. It returns the likelihood.*"
   ]
  },
  {
   "cell_type": "markdown",
   "metadata": {},
   "source": [
    "Intenté hacer el bucle pero preferí avanzar"
   ]
  },
  {
   "cell_type": "code",
   "execution_count": 60,
   "metadata": {},
   "outputs": [
    {
     "name": "stdout",
     "output_type": "stream",
     "text": [
      "NormaltestResult(statistic=0.06965876344082848, pvalue=0.9657701802479216)\n",
      "NormaltestResult(statistic=1.4170487243670018, pvalue=0.49237022177372314)\n",
      "NormaltestResult(statistic=2.3771324466132895, pvalue=0.3046577622704452)\n",
      "NormaltestResult(statistic=1.626201831780517, pvalue=0.44348073537370325)\n"
     ]
    }
   ],
   "source": [
    "mean=50\n",
    "sigma=5\n",
    "sample_size=[10, 50, 500, 5000]\n",
    "\n",
    "\n",
    "s10= np.random.normal(mean, sigma,10)\n",
    "s50= np.random.normal(mean, sigma,50)\n",
    "s100= np.random.normal(mean, sigma,100)\n",
    "s5000= np.random.normal(mean, sigma,5000)\n",
    "\n",
    "print(stats.normaltest(s1))\n",
    "print(stats.normaltest(s50))\n",
    "print(stats.normaltest(s100))\n",
    "print(stats.normaltest(s5000))"
   ]
  },
  {
   "cell_type": "markdown",
   "metadata": {},
   "source": [
    "#Comentario para mi\n",
    "#normaltest returns a 2-tuple of the chi-squared statistic, and the associated p-value. Given the null hypothesis that x came from a normal distribution, the p-value represents the probability that a chi-squared statistic that large (or larger) would be seen.\n",
    "\n",
    "If the p-val is very small, it means it is unlikely that the data came from a normal distribution. \n",
    "\n",
    "     is convenient to take this point as a limit in judging whether a deviation is to be considered significant or not. Deviations exceeding twice the standard deviation are thus formally regarded as significant\n",
    "\n",
    "Fisher, R.A. (1925) Statistical Methods for Research Workers, p. 47\n",
    "https://stats.stackexchange.com/questions/55691/regarding-p-values-why-1-and-5-why-not-6-or-10/55693#55693"
   ]
  },
  {
   "cell_type": "markdown",
   "metadata": {},
   "source": [
    "#### Interpret the normaltest results and make your observations."
   ]
  },
  {
   "cell_type": "markdown",
   "metadata": {},
   "source": [
    "No se demuestra que a mayor número de muestras el p value sea mayor, de hecho el mayor valor se da en la muestra de 10 elementos\n"
   ]
  },
  {
   "cell_type": "markdown",
   "metadata": {},
   "source": [
    "#### Step 2: Plot normal distributions\n",
    "\n",
    "Use matplotlib subplots to plot a histogram of each sample. \n",
    "\n",
    "*Hints:*\n",
    "- Use subplots to compare your figures side by side.\n",
    "\n",
    "- Your output should look like below:\n",
    "\n",
    "![normal distributions with different sample sizes](ch-1.png)"
   ]
  },
  {
   "cell_type": "code",
   "execution_count": 149,
   "metadata": {},
   "outputs": [
    {
     "data": {
      "text/plain": [
       "<matplotlib.axes._subplots.AxesSubplot at 0x7fcc6e8ba898>"
      ]
     },
     "execution_count": 149,
     "metadata": {},
     "output_type": "execute_result"
    },
    {
     "data": {
      "image/png": "[encoded data removed]",
      "text/plain": [
       "<Figure size 1080x360 with 4 Axes>"
      ]
     },
     "metadata": {
      "needs_background": "light"
     },
     "output_type": "display_data"
    }
   ],
   "source": [
    "fig, axes = plt.subplots(1,4, figsize=(15,5))\n",
    "\n",
    "sns.distplot(s1, bins=30, kde=False,ax=axes[0])\n",
    "sns.distplot(s50, bins=30, kde=False,ax=axes[1])\n",
    "sns.distplot(s100, bins=30, kde=False,ax=axes[2])\n",
    "sns.distplot(s5000, bins=20, kde=False,ax=axes[3])\n"
   ]
  },
  {
   "cell_type": "markdown",
   "metadata": {},
   "source": [
    "#### Compare the distributions above. What do you observe? Explain with the Central Limit Theorem."
   ]
  },
  {
   "cell_type": "markdown",
   "metadata": {},
   "source": [
    "Cuanto mayor es el tamaño de la muestra, más se aproxima a una distribución normal\n"
   ]
  },
  {
   "cell_type": "markdown",
   "metadata": {},
   "source": [
    "# Challenge 2 - Plot Probability Mass Function (PMF)"
   ]
  },
  {
   "cell_type": "markdown",
   "metadata": {},
   "source": [
    "#### Background knowledge\n",
    "\n",
    "[PMF](https://en.wikipedia.org/wiki/Probability_mass_function) shows the probability distribution of a **discrete random variable**. A [discrete random variable](https://en.wikipedia.org/wiki/Random_variable#Discrete_random_variable) has random numeric values that are not continuous. For example, the number of people in a household can only be integers but not floats. Therefore the number of people in a household is a discrete variable.\n",
    "\n",
    "#### Question: We assume that the probability of clicking an Ad in a Youtube video is 0.15. We have a sample of 5 people who wathched the video and we want to plot the PMF for a binomial distribution.\n",
    "\n",
    "*Hint: use binom from `scipy.stats.binom`. Your output should look like below:*\n",
    "\n",
    "![binom 10](ch-2.png)"
   ]
  },
  {
   "cell_type": "code",
   "execution_count": 182,
   "metadata": {},
   "outputs": [
    {
     "data": {
      "text/plain": [
       "[<matplotlib.lines.Line2D at 0x7fcc6f0ab9e8>]"
      ]
     },
     "execution_count": 182,
     "metadata": {},
     "output_type": "execute_result"
    },
    {
     "data": {
      "image/png": "[encoded data removed]",
      "text/plain": [
       "<Figure size 432x288 with 1 Axes>"
      ]
     },
     "metadata": {
      "needs_background": "light"
     },
     "output_type": "display_data"
    }
   ],
   "source": [
    "k=np.arange(0,6)\n",
    "n=5\n",
    "p=0.15\n",
    "\n",
    "binomial= binom.pmf(k,n,p)\n",
    "plt.plot(k,binomial)\n",
    "\n",
    "\n"
   ]
  },
  {
   "cell_type": "markdown",
   "metadata": {},
   "source": [
    "#### Explain what you observe from the plot above"
   ]
  },
  {
   "cell_type": "markdown",
   "metadata": {},
   "source": [
    "Es un método discreto"
   ]
  },
  {
   "cell_type": "markdown",
   "metadata": {},
   "source": [
    "#### Now plot PMP with 50, 500, and 5000 visitors."
   ]
  },
  {
   "cell_type": "code",
   "execution_count": 10,
   "metadata": {
    "scrolled": true
   },
   "outputs": [
    {
     "data": {
      "text/plain": [
       "[<matplotlib.lines.Line2D at 0x7fb76786d9b0>]"
      ]
     },
     "execution_count": 10,
     "metadata": {},
     "output_type": "execute_result"
    },
    {
     "data": {
      "image/png": "[encoded data removed]",
      "text/plain": [
       "<Figure size 432x288 with 1 Axes>"
      ]
     },
     "metadata": {
      "needs_background": "light"
     },
     "output_type": "display_data"
    }
   ],
   "source": [
    "\n",
    "n=50\n",
    "p=0.15\n",
    "k=np.arange(0,n)\n",
    "binomial= binom.pmf(k,n,p)\n",
    "plt.plot(k,binomial)\n"
   ]
  },
  {
   "cell_type": "code",
   "execution_count": 11,
   "metadata": {},
   "outputs": [
    {
     "data": {
      "text/plain": [
       "[<matplotlib.lines.Line2D at 0x7fb7677ce6a0>]"
      ]
     },
     "execution_count": 11,
     "metadata": {},
     "output_type": "execute_result"
    },
    {
     "data": {
      "image/png": "[encoded data removed]",
      "text/plain": [
       "<Figure size 432x288 with 1 Axes>"
      ]
     },
     "metadata": {
      "needs_background": "light"
     },
     "output_type": "display_data"
    }
   ],
   "source": [
    "n=500\n",
    "p=0.15\n",
    "k=np.arange(0,n)\n",
    "binomial= binom.pmf(k,n,p)\n",
    "plt.plot(k,binomial)"
   ]
  },
  {
   "cell_type": "code",
   "execution_count": 12,
   "metadata": {},
   "outputs": [
    {
     "data": {
      "text/plain": [
       "[<matplotlib.lines.Line2D at 0x7fb7677ab4e0>]"
      ]
     },
     "execution_count": 12,
     "metadata": {},
     "output_type": "execute_result"
    },
    {
     "data": {
      "image/png": "[encoded data removed]",
      "text/plain": [
       "<Figure size 432x288 with 1 Axes>"
      ]
     },
     "metadata": {
      "needs_background": "light"
     },
     "output_type": "display_data"
    }
   ],
   "source": [
    "n=5000\n",
    "p=0.15\n",
    "k=np.arange(0,n)\n",
    "binomial= binom.pmf(k,n,p)\n",
    "plt.plot(k,binomial)"
   ]
  },
  {
   "cell_type": "markdown",
   "metadata": {},
   "source": [
    "#### What did you notice from the distribution plots? Comment your findings."
   ]
  },
  {
   "cell_type": "markdown",
   "metadata": {},
   "source": [
    "A medida que aumenta la muestra la probabilidad de toda la muestra haga click en un anuncio es cero. Por otro lado la probabilidad de los que hacen click es cada vez menor\n"
   ]
  },
  {
   "cell_type": "markdown",
   "metadata": {},
   "source": [
    "# Challenge 3"
   ]
  },
  {
   "cell_type": "markdown",
   "metadata": {},
   "source": [
    "#### Reaserch the Poisson distribution. Write about your own understanding of the Poisson distribution."
   ]
  },
  {
   "cell_type": "markdown",
   "metadata": {},
   "source": [
    "En teoría de probabilidad y estadística, la distribución de Poisson es una distribución de probabilidad discreta que expresa, a partir de una frecuencia de ocurrencia media, la probabilidad de que ocurra un determinado número de eventos durante cierto período de tiempo. Concretamente, se especializa en la probabilidad de ocurrencia de sucesos con probabilidades muy pequeñas, o sucesos \"raros\". La distribución de Poisson es el caso límite de la distribución binomial. De hecho, si los parámetros n y θ {\\displaystyle \\theta } \\theta de una distribución binomial tienden a infinito (en el caso de 'n') y a cero (en el caso de θ {\\displaystyle \\theta } \\theta ) de manera que λ = n θ {\\displaystyle \\!\\lambda =n\\theta } {\\displaystyle \\!\\lambda =n\\theta } se mantenga constante, la distribución límite obtenida es de Poisson. \n",
    "\n",
    "La distribución de Poisson recoge sucesos independientes que ocurren en un soporte continuo. El número medio de sucesos por unidad de soporte se le conoce como λ y caracteriza la distribución. poisson nos permite crear distribuciones de este tipo."
   ]
  },
  {
   "cell_type": "markdown",
   "metadata": {},
   "source": [
    "#### A website has an average of 300 visits per day. What is the probability of getting 320 visitors in a day?\n",
    "\n",
    "*Hint: use `scipy.stats.poisson`*"
   ]
  },
  {
   "cell_type": "code",
   "execution_count": 172,
   "metadata": {},
   "outputs": [
    {
     "data": {
      "text/plain": [
       "0.011612348610402475"
      ]
     },
     "execution_count": 172,
     "metadata": {},
     "output_type": "execute_result"
    }
   ],
   "source": [
    "mean = 300\n",
    "x = 320\n",
    "poisson.pmf(x, mean)"
   ]
  },
  {
   "cell_type": "markdown",
   "metadata": {},
   "source": [
    "#### What is the probability of getting 60 visits?"
   ]
  },
  {
   "cell_type": "code",
   "execution_count": 173,
   "metadata": {},
   "outputs": [
    {
     "data": {
      "text/plain": [
       "2.622743762294515e-64"
      ]
     },
     "execution_count": 173,
     "metadata": {},
     "output_type": "execute_result"
    }
   ],
   "source": [
    "mean = 300\n",
    "x = 60\n",
    "poisson.pmf(x, mean)"
   ]
  },
  {
   "cell_type": "markdown",
   "metadata": {},
   "source": [
    "#### Plot the distribution of the probability for getting 0-1000 visits.\n",
    "\n",
    "*Hints:* \n",
    "\n",
    "- Create a list to store the Poisson distribution probabilities for n=0 to 1000. Then plot the probabilities.\n",
    "\n",
    "- Your plot should look like below:\n",
    "\n",
    "![poisson distribution](ch-3.png)"
   ]
  },
  {
   "cell_type": "code",
   "execution_count": 177,
   "metadata": {},
   "outputs": [
    {
     "data": {
      "text/plain": [
       "[<matplotlib.lines.Line2D at 0x7fcc6e977470>]"
      ]
     },
     "execution_count": 177,
     "metadata": {},
     "output_type": "execute_result"
    },
    {
     "data": {
      "image/png": "[encoded data removed]",
      "text/plain": [
       "<Figure size 432x288 with 1 Axes>"
      ]
     },
     "metadata": {
      "needs_background": "light"
     },
     "output_type": "display_data"
    }
   ],
   "source": [
    "n=1000\n",
    "k=np.arange(0,n)\n",
    "m=300\n",
    "\n",
    "x = list(range(1001))\n",
    "y = [poisson.pmf(e, mean) for e in x] # poisson.pmf(x, mean)\n",
    "plt.plot(x,y)\n"
   ]
  },
  {
   "cell_type": "code",
   "execution_count": null,
   "metadata": {},
   "outputs": [],
   "source": [
    "\n"
   ]
  }
 ],
 "metadata": {
  "anaconda-cloud": {},
  "kernelspec": {
   "display_name": "Python 3",
   "language": "python",
   "name": "python3"
  },
  "language_info": {
   "codemirror_mode": {
    "name": "ipython",
    "version": 3
   },
   "file_extension": ".py",
   "mimetype": "text/x-python",
   "name": "python",
   "nbconvert_exporter": "python",
   "pygments_lexer": "ipython3",
   "version": "3.6.6"
  }
 },
 "nbformat": 4,
 "nbformat_minor": 1
}
