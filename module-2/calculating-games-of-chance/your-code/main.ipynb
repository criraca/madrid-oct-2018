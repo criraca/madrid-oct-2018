{
 "cells": [
  {
   "cell_type": "code",
   "execution_count": 4,
   "metadata": {},
   "outputs": [],
   "source": [
    "from scipy.misc import comb"
   ]
  },
  {
   "cell_type": "markdown",
   "metadata": {},
   "source": [
    "    Select a game of chance\n",
    "    Create a Jupyter notebook to perform your analysis of this game.\n",
    "    Compute the probability and odds of at least 2 different potential outcomes in this game. Outcomes should be calculated by defining functions in Python and using the functions available to you in the Scipy library.\n",
    "    Discuss how likely (or unlikely) these outcomes are to the player.\n"
   ]
  },
  {
   "cell_type": "markdown",
   "metadata": {},
   "source": [
    "# RULETA\n",
    "\n",
    "https://en.wikipedia.org/wiki/Roulette#Bet_odds_table"
   ]
  },
  {
   "cell_type": "markdown",
   "metadata": {},
   "source": [
    "Computation Process:\n",
    "\n",
    "    Compute the number of possible ways to get any outcome\n",
    "    Compute the number of ways to obtain a particular outcome\n",
    "    Divide the two and find the probability of each outcome\n",
    "    Explain how likely this outcome is using markdown comments in your notebook\n"
   ]
  },
  {
   "cell_type": "markdown",
   "metadata": {},
   "source": [
    "Calcular la probabilidad de que salga el número 7 en una tirada de ruleta. La porbabilidad es 1 sobre 37, calculo la cuota con una función:\n"
   ]
  },
  {
   "cell_type": "code",
   "execution_count": 6,
   "metadata": {},
   "outputs": [
    {
     "data": {
      "text/plain": [
       "36.0"
      ]
     },
     "execution_count": 6,
     "metadata": {},
     "output_type": "execute_result"
    }
   ],
   "source": [
    "def odds(prob):\n",
    "    \n",
    "    return(prob/(1-prob))\n",
    "\n",
    "prob=+1/37\n",
    "1/odds(prob)"
   ]
  },
  {
   "cell_type": "markdown",
   "metadata": {},
   "source": [
    "Quiero caclular la probabilidad de que jugando al blackjak, si la primera carta es un 5 que la segunda carta sea un 4. Hay 4 cartas que pueden ser un 5 de un total de 52, por lo que la probabilidad del 5 es de 4/52. La probabilidad de que la siguiente sea un 4 es de de 4/51, por lo que la probabilidad de ambas es de 4/52*4/51"
   ]
  },
  {
   "cell_type": "code",
   "execution_count": 6,
   "metadata": {},
   "outputs": [
    {
     "data": {
      "text/plain": [
       "164.75"
      ]
     },
     "execution_count": 6,
     "metadata": {},
     "output_type": "execute_result"
    }
   ],
   "source": [
    "prob=4/52*4/51\n",
    "\n",
    "def odds(prob):\n",
    "    return(prob/(1-prob))\n",
    "1/odds(prob)\n"
   ]
  },
  {
   "cell_type": "markdown",
   "metadata": {},
   "source": [
    "La cuota resultante es de 164.75 a 1"
   ]
  },
  {
   "cell_type": "code",
   "execution_count": null,
   "metadata": {},
   "outputs": [],
   "source": []
  }
 ],
 "metadata": {
  "kernelspec": {
   "display_name": "Python 3",
   "language": "python",
   "name": "python3"
  },
  "language_info": {
   "codemirror_mode": {
    "name": "ipython",
    "version": 3
   },
   "file_extension": ".py",
   "mimetype": "text/x-python",
   "name": "python",
   "nbconvert_exporter": "python",
   "pygments_lexer": "ipython3",
   "version": "3.6.6"
  }
 },
 "nbformat": 4,
 "nbformat_minor": 2
}
